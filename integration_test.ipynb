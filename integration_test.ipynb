{
 "cells": [
  {
   "cell_type": "code",
   "execution_count": 27,
   "metadata": {},
   "outputs": [
    {
     "name": "stdout",
     "output_type": "stream",
     "text": [
      "The autoreload extension is already loaded. To reload it, use:\n",
      "  %reload_ext autoreload\n"
     ]
    }
   ],
   "source": [
    "import math\n",
    "from typing import List, Optional, Sequence, Tuple\n",
    "\n",
    "import torch\n",
    "from torch import nn\n",
    "from torch.nn import functional as F\n",
    "\n",
    "%load_ext autoreload\n",
    "%autoreload 2\n",
    "import fold\n",
    "import gpnn\n",
    "import image as image_utils\n",
    "import new_utils as utils\n",
    "import resize_right"
   ]
  },
  {
   "cell_type": "code",
   "execution_count": 2,
   "metadata": {},
   "outputs": [],
   "source": [
    "query = torch.rand(1, 3, 10, 11)\n",
    "key = torch.rand(1, 3, 12, 13)\n",
    "value = torch.rand(1, 3, 12, 13)"
   ]
  },
  {
   "cell_type": "code",
   "execution_count": 3,
   "metadata": {},
   "outputs": [],
   "source": [
    "out = gpnn.pnn(query, key, value, patch_size=3)\n",
    "assert out.shape == query.shape"
   ]
  },
  {
   "cell_type": "code",
   "execution_count": 4,
   "metadata": {},
   "outputs": [
    {
     "name": "stdout",
     "output_type": "stream",
     "text": [
      "level: 2\n",
      "level: 1\n",
      "iteration: 0\n",
      "iteration: 1\n",
      "iteration: 2\n",
      "iteration: 3\n",
      "iteration: 4\n",
      "iteration: 5\n",
      "iteration: 6\n",
      "iteration: 7\n",
      "iteration: 8\n",
      "iteration: 9\n",
      "level: 0\n",
      "iteration: 0\n",
      "iteration: 1\n",
      "iteration: 2\n",
      "iteration: 3\n",
      "iteration: 4\n",
      "iteration: 5\n",
      "iteration: 6\n",
      "iteration: 7\n",
      "iteration: 8\n",
      "iteration: 9\n"
     ]
    }
   ],
   "source": [
    "pyramid = gpnn.make_pyramid(query, 2, 0.75)\n",
    "initial_guess = torch.rand_like(pyramid[-1])\n",
    "out = gpnn.gpnn(pyramid, initial_guess, patch_size=3)\n",
    "assert out.shape == pyramid[0].shape"
   ]
  },
  {
   "cell_type": "code",
   "execution_count": 5,
   "metadata": {},
   "outputs": [],
   "source": [
    "def image_generation(image: torch.Tensor, noise_std: float = 0.75, alpha: float = 10.0,\n",
    "                     patch_size: int = 7, reduce: str = 'weighted_mean', \n",
    "                     downscale_ratio: float = 0.75, num_levels: int = 9):\n",
    "    pyramid = gpnn.make_pyramid(image, num_levels, downscale_ratio)\n",
    "    initial_guess = pyramid[-1] + noise_std * torch.randn_like(pyramid[-1])\n",
    "    return gpnn.gpnn(pyramid, initial_guess, alpha=alpha, downscale_ratio=downscale_ratio,\n",
    "                     patch_size=patch_size, reduce=reduce)"
   ]
  },
  {
   "cell_type": "code",
   "execution_count": 45,
   "metadata": {},
   "outputs": [],
   "source": [
    "def _get_retargeting_step_size(retargeting_ratio: Tuple[float, float],\n",
    "                               gradual: bool) -> Tuple[int, Tuple[float, float]]:\n",
    "    if gradual:\n",
    "        raise ValueError('gradual=True is not supported.')\n",
    "        # step_size = [0.9, 0.9]\n",
    "        # if retargeting_ratio[0] >= 1:\n",
    "        #     step_size[0] = 1.1\n",
    "        # if retargeting_ratio[1] >= 1:\n",
    "        #     step_size[0] = 1.1\n",
    "        # num_steps = math.floor(max(math.log(retargeting_ratio[0])/math.log(step_size[0]), \n",
    "        #                         math.log(retargeting_ratio[1])/math.log(step_size[1])))\n",
    "        # step_size[0] = 10**(math.log10(retargeting_ratio[0])/num_steps)\n",
    "        # step_size[1] = 10**(math.log10(retargeting_ratio[1])/num_steps)\n",
    "    else:\n",
    "        num_steps = 1\n",
    "        step_size = retargeting_ratio\n",
    "    return num_steps, tuple(step_size)\n",
    "\n",
    "def _get_num_levels_1d(current_size, min_axis_size_coarsest, downscale_ratio):\n",
    "    return math.floor(math.log(min_axis_size_coarsest / current_size) / math.log(downscale_ratio))\n",
    "\n",
    "def _get_num_levels(current_size, min_axis_size_coarsest, downscale_ratio):\n",
    "    return min(\n",
    "        _get_num_levels_1d(current_size_1d, min_axis_size_coarsest, downscale_ratio)\n",
    "        for current_size_1d in current_size\n",
    "    )\n",
    "\n",
    "def retargeting(image: torch.Tensor, retargeting_ratio: Tuple[float, float],\n",
    "                alpha: float = 1e-3,  patch_size: int = 7, reduce: str = 'weighted_mean',\n",
    "                downscale_ratio: float = 0.8, max_num_levels: int = 9, gradual: bool = False,\n",
    "                min_axis_size_coarsest: int = 21):\n",
    "    pyramid = gpnn.make_pyramid(image, max_num_levels, downscale_ratio)\n",
    "    num_steps, step_size = _get_retargeting_step_size(retargeting_ratio, gradual)\n",
    "    generated = image\n",
    "    for _ in range(num_steps):\n",
    "        retargeted_generated = resize_right.resize(generated, step_size)\n",
    "        current_num_levels = _get_num_levels(retargeted_generated.shape[-2:], min_axis_size_coarsest, downscale_ratio)\n",
    "        if current_num_levels > max_num_levels:\n",
    "            raise RuntimeError('max_num_levels is smaller than one of the requested num_levels. '\n",
    "                               'Please increase max_num_levels or min_axis_size_coarsest.')\n",
    "        retargeted_pyramid = gpnn.make_pyramid(retargeted_generated, current_num_levels, downscale_ratio)\n",
    "        retargeted_pyramid_shape = [level.shape for level in retargeted_pyramid]\n",
    "        initial_quess = retargeted_pyramid[-1]\n",
    "        generated = gpnn.gpnn(pyramid[:current_num_levels], initial_quess, # output_pyramid_shape=retargeted_pyramid_shape,\n",
    "                              alpha=alpha, downscale_ratio=downscale_ratio, patch_size=patch_size,\n",
    "                              reduce=reduce, num_iters_in_coarsest_level=10)\n",
    "    return generated"
   ]
  },
  {
   "cell_type": "code",
   "execution_count": 46,
   "metadata": {},
   "outputs": [
    {
     "name": "stdout",
     "output_type": "stream",
     "text": [
      "torch.Size([1, 3, 35, 46])\n"
     ]
    },
    {
     "data": {
      "application/vnd.jupyter.widget-view+json": {
       "model_id": "2c37d077f79442b6b4bc1758f0a5202b",
       "version_major": 2,
       "version_minor": 0
      },
      "text/plain": [
       "Image(value=b'\\x89PNG\\r\\n\\x1a\\n\\x00\\x00\\x00\\rIHDR\\x00\\x00\\x00.\\x00\\x00\\x00#\\x08\\x02\\x00\\x00\\x00dE\\xaf\\xbe\\x00\\…"
      ]
     },
     "metadata": {},
     "output_type": "display_data"
    },
    {
     "name": "stdout",
     "output_type": "stream",
     "text": [
      "level: 4\n",
      "corasest iteration: 0\n",
      "corasest iteration: 1\n",
      "corasest iteration: 2\n",
      "corasest iteration: 3\n",
      "corasest iteration: 4\n",
      "corasest iteration: 5\n",
      "corasest iteration: 6\n",
      "corasest iteration: 7\n",
      "corasest iteration: 8\n",
      "corasest iteration: 9\n",
      "torch.Size([1, 3, 35, 46])\n"
     ]
    },
    {
     "data": {
      "application/vnd.jupyter.widget-view+json": {
       "model_id": "cdce5c9bed9d47acb9a3593722104a2c",
       "version_major": 2,
       "version_minor": 0
      },
      "text/plain": [
       "Image(value=b'\\x89PNG\\r\\n\\x1a\\n\\x00\\x00\\x00\\rIHDR\\x00\\x00\\x00.\\x00\\x00\\x00#\\x08\\x02\\x00\\x00\\x00dE\\xaf\\xbe\\x00\\…"
      ]
     },
     "metadata": {},
     "output_type": "display_data"
    },
    {
     "name": "stdout",
     "output_type": "stream",
     "text": [
      "level: 3\n",
      "iteration: 0\n",
      "iteration: 1\n",
      "iteration: 2\n",
      "iteration: 3\n",
      "iteration: 4\n",
      "iteration: 5\n",
      "iteration: 6\n",
      "iteration: 7\n",
      "iteration: 8\n",
      "iteration: 9\n",
      "torch.Size([1, 3, 72, 96])\n"
     ]
    },
    {
     "data": {
      "application/vnd.jupyter.widget-view+json": {
       "model_id": "f0cb2a86bb9b4915abb4246f6c636082",
       "version_major": 2,
       "version_minor": 0
      },
      "text/plain": [
       "Image(value=b'\\x89PNG\\r\\n\\x1a\\n\\x00\\x00\\x00\\rIHDR\\x00\\x00\\x00`\\x00\\x00\\x00H\\x08\\x02\\x00\\x00\\x00\\x86\\x05g4\\x00\\…"
      ]
     },
     "metadata": {},
     "output_type": "display_data"
    },
    {
     "name": "stdout",
     "output_type": "stream",
     "text": [
      "level: 2\n",
      "iteration: 0\n",
      "iteration: 1\n",
      "iteration: 2\n",
      "iteration: 3\n",
      "iteration: 4\n",
      "iteration: 5\n",
      "iteration: 6\n",
      "iteration: 7\n",
      "iteration: 8\n",
      "iteration: 9\n",
      "torch.Size([1, 3, 90, 120])\n"
     ]
    },
    {
     "data": {
      "application/vnd.jupyter.widget-view+json": {
       "model_id": "0a56e487660a439d919ee05b78b28f7b",
       "version_major": 2,
       "version_minor": 0
      },
      "text/plain": [
       "Image(value=b'\\x89PNG\\r\\n\\x1a\\n\\x00\\x00\\x00\\rIHDR\\x00\\x00\\x00x\\x00\\x00\\x00Z\\x08\\x02\\x00\\x00\\x00\\xfcb\\x05\\xb8\\x…"
      ]
     },
     "metadata": {},
     "output_type": "display_data"
    },
    {
     "name": "stdout",
     "output_type": "stream",
     "text": [
      "level: 1\n",
      "iteration: 0\n",
      "iteration: 1\n",
      "iteration: 2\n",
      "iteration: 3\n",
      "iteration: 4\n",
      "iteration: 5\n",
      "iteration: 6\n"
     ]
    },
    {
     "ename": "KeyboardInterrupt",
     "evalue": "",
     "output_type": "error",
     "traceback": [
      "\u001b[0;31m---------------------------------------------------------------------------\u001b[0m",
      "\u001b[0;31mKeyboardInterrupt\u001b[0m                         Traceback (most recent call last)",
      "\u001b[1;32m/Users/benfei/Documents/DropTheGAN/integration_test.ipynb Cell 7'\u001b[0m in \u001b[0;36m<cell line: 1>\u001b[0;34m()\u001b[0m\n\u001b[0;32m----> <a href='vscode-notebook-cell:/Users/benfei/Documents/DropTheGAN/integration_test.ipynb#ch0000033?line=0'>1</a>\u001b[0m out \u001b[39m=\u001b[39m retargeting(small_image\u001b[39m.\u001b[39;49munsqueeze(\u001b[39m0\u001b[39;49m), alpha\u001b[39m=\u001b[39;49m\u001b[39m100\u001b[39;49m, retargeting_ratio\u001b[39m=\u001b[39;49m(\u001b[39m0.75\u001b[39;49m, \u001b[39m0.75\u001b[39;49m), min_axis_size_coarsest\u001b[39m=\u001b[39;49m\u001b[39m28\u001b[39;49m)\n",
      "\u001b[1;32m/Users/benfei/Documents/DropTheGAN/integration_test.ipynb Cell 6'\u001b[0m in \u001b[0;36mretargeting\u001b[0;34m(image, retargeting_ratio, alpha, patch_size, reduce, downscale_ratio, max_num_levels, gradual, min_axis_size_coarsest)\u001b[0m\n\u001b[1;32m     <a href='vscode-notebook-cell:/Users/benfei/Documents/DropTheGAN/integration_test.ipynb#ch0000030?line=41'>42</a>\u001b[0m     retargeted_pyramid_shape \u001b[39m=\u001b[39m [level\u001b[39m.\u001b[39mshape \u001b[39mfor\u001b[39;00m level \u001b[39min\u001b[39;00m retargeted_pyramid]\n\u001b[1;32m     <a href='vscode-notebook-cell:/Users/benfei/Documents/DropTheGAN/integration_test.ipynb#ch0000030?line=42'>43</a>\u001b[0m     initial_quess \u001b[39m=\u001b[39m retargeted_pyramid[\u001b[39m-\u001b[39m\u001b[39m1\u001b[39m]\n\u001b[0;32m---> <a href='vscode-notebook-cell:/Users/benfei/Documents/DropTheGAN/integration_test.ipynb#ch0000030?line=43'>44</a>\u001b[0m     generated \u001b[39m=\u001b[39m gpnn\u001b[39m.\u001b[39;49mgpnn(pyramid[:current_num_levels], initial_quess, \u001b[39m# output_pyramid_shape=retargeted_pyramid_shape,\u001b[39;49;00m\n\u001b[1;32m     <a href='vscode-notebook-cell:/Users/benfei/Documents/DropTheGAN/integration_test.ipynb#ch0000030?line=44'>45</a>\u001b[0m                           alpha\u001b[39m=\u001b[39;49malpha, downscale_ratio\u001b[39m=\u001b[39;49mdownscale_ratio, patch_size\u001b[39m=\u001b[39;49mpatch_size,\n\u001b[1;32m     <a href='vscode-notebook-cell:/Users/benfei/Documents/DropTheGAN/integration_test.ipynb#ch0000030?line=45'>46</a>\u001b[0m                           reduce\u001b[39m=\u001b[39;49mreduce, num_iters_in_coarsest_level\u001b[39m=\u001b[39;49m\u001b[39m10\u001b[39;49m)\n\u001b[1;32m     <a href='vscode-notebook-cell:/Users/benfei/Documents/DropTheGAN/integration_test.ipynb#ch0000030?line=46'>47</a>\u001b[0m \u001b[39mreturn\u001b[39;00m generated\n",
      "File \u001b[0;32m~/Documents/DropTheGAN/gpnn.py:51\u001b[0m, in \u001b[0;36mgpnn\u001b[0;34m(pyramid, initial_guess, downscale_ratio, patch_size, alpha, output_pyramid_shape, mask_pyramid, num_iters_in_level, num_iters_in_coarsest_level, reduce)\u001b[0m\n\u001b[1;32m     <a href='file:///Users/benfei/Documents/DropTheGAN/gpnn.py?line=48'>49</a>\u001b[0m     \u001b[39mfor\u001b[39;00m i \u001b[39min\u001b[39;00m \u001b[39mrange\u001b[39m(num_iters_in_level):\n\u001b[1;32m     <a href='file:///Users/benfei/Documents/DropTheGAN/gpnn.py?line=49'>50</a>\u001b[0m         \u001b[39mprint\u001b[39m(\u001b[39mf\u001b[39m\u001b[39m'\u001b[39m\u001b[39miteration: \u001b[39m\u001b[39m{\u001b[39;00mi\u001b[39m}\u001b[39;00m\u001b[39m'\u001b[39m)\n\u001b[0;32m---> <a href='file:///Users/benfei/Documents/DropTheGAN/gpnn.py?line=50'>51</a>\u001b[0m         generated \u001b[39m=\u001b[39m pnn(generated,\n\u001b[1;32m     <a href='file:///Users/benfei/Documents/DropTheGAN/gpnn.py?line=51'>52</a>\u001b[0m                         key\u001b[39m=\u001b[39;49mblurred,\n\u001b[1;32m     <a href='file:///Users/benfei/Documents/DropTheGAN/gpnn.py?line=52'>53</a>\u001b[0m                         value\u001b[39m=\u001b[39;49mpyramid[level],\n\u001b[1;32m     <a href='file:///Users/benfei/Documents/DropTheGAN/gpnn.py?line=53'>54</a>\u001b[0m                         mask\u001b[39m=\u001b[39;49mmask_pyramid[level],\n\u001b[1;32m     <a href='file:///Users/benfei/Documents/DropTheGAN/gpnn.py?line=54'>55</a>\u001b[0m                         patch_size\u001b[39m=\u001b[39;49mpatch_size,\n\u001b[1;32m     <a href='file:///Users/benfei/Documents/DropTheGAN/gpnn.py?line=55'>56</a>\u001b[0m                         alpha\u001b[39m=\u001b[39;49malpha,\n\u001b[1;32m     <a href='file:///Users/benfei/Documents/DropTheGAN/gpnn.py?line=56'>57</a>\u001b[0m                         reduce\u001b[39m=\u001b[39;49mreduce)\n\u001b[1;32m     <a href='file:///Users/benfei/Documents/DropTheGAN/gpnn.py?line=57'>58</a>\u001b[0m \u001b[39mprint\u001b[39m(generated\u001b[39m.\u001b[39mshape)\n\u001b[1;32m     <a href='file:///Users/benfei/Documents/DropTheGAN/gpnn.py?line=58'>59</a>\u001b[0m image_utils\u001b[39m.\u001b[39mimshow(generated)\n",
      "File \u001b[0;32m~/Documents/DropTheGAN/gpnn.py:86\u001b[0m, in \u001b[0;36mpnn\u001b[0;34m(query, key, value, mask, patch_size, alpha, reduce)\u001b[0m\n\u001b[1;32m     <a href='file:///Users/benfei/Documents/DropTheGAN/gpnn.py?line=83'>84</a>\u001b[0m     key_patches_column \u001b[39m=\u001b[39m key_patches_column[:, :, unmasked_patches]\n\u001b[1;32m     <a href='file:///Users/benfei/Documents/DropTheGAN/gpnn.py?line=84'>85</a>\u001b[0m     value_patches_column \u001b[39m=\u001b[39m value_patches_column[:, :, unmasked_patches]\n\u001b[0;32m---> <a href='file:///Users/benfei/Documents/DropTheGAN/gpnn.py?line=85'>86</a>\u001b[0m dist \u001b[39m=\u001b[39m compute_dist_matrix(query_patches_column, key_patches_column)\n\u001b[1;32m     <a href='file:///Users/benfei/Documents/DropTheGAN/gpnn.py?line=86'>87</a>\u001b[0m dist \u001b[39m/\u001b[39m\u001b[39m=\u001b[39m dist\u001b[39m.\u001b[39mmin(dim\u001b[39m=\u001b[39m\u001b[39m0\u001b[39m, keepdim\u001b[39m=\u001b[39m\u001b[39mTrue\u001b[39;00m)[\u001b[39m0\u001b[39m] \u001b[39m+\u001b[39m alpha\n\u001b[1;32m     <a href='file:///Users/benfei/Documents/DropTheGAN/gpnn.py?line=87'>88</a>\u001b[0m indices \u001b[39m=\u001b[39m dist\u001b[39m.\u001b[39margmin(dim\u001b[39m=\u001b[39m\u001b[39m2\u001b[39m)\n",
      "File \u001b[0;32m~/Documents/DropTheGAN/gpnn.py:175\u001b[0m, in \u001b[0;36mcompute_dist_matrix\u001b[0;34m(queries, keys, max_memory_usage)\u001b[0m\n\u001b[1;32m    <a href='file:///Users/benfei/Documents/DropTheGAN/gpnn.py?line=172'>173</a>\u001b[0m         queries_tile \u001b[39m=\u001b[39m queries[:, row_start:row_stop]\n\u001b[1;32m    <a href='file:///Users/benfei/Documents/DropTheGAN/gpnn.py?line=173'>174</a>\u001b[0m         keys_tile \u001b[39m=\u001b[39m keys[:, col_start:col_stop]\n\u001b[0;32m--> <a href='file:///Users/benfei/Documents/DropTheGAN/gpnn.py?line=174'>175</a>\u001b[0m         dist_tile \u001b[39m=\u001b[39m _compute_dist_matrix(queries_tile, keys_tile)\n\u001b[1;32m    <a href='file:///Users/benfei/Documents/DropTheGAN/gpnn.py?line=175'>176</a>\u001b[0m         dist[:, row_start:row_stop, col_start:col_stop] \u001b[39m=\u001b[39m dist_tile\n\u001b[1;32m    <a href='file:///Users/benfei/Documents/DropTheGAN/gpnn.py?line=176'>177</a>\u001b[0m \u001b[39mreturn\u001b[39;00m dist\n",
      "File \u001b[0;32m~/Documents/DropTheGAN/gpnn.py:137\u001b[0m, in \u001b[0;36m_compute_dist_matrix\u001b[0;34m(queries, keys)\u001b[0m\n\u001b[1;32m    <a href='file:///Users/benfei/Documents/DropTheGAN/gpnn.py?line=134'>135</a>\u001b[0m x2 \u001b[39m=\u001b[39m torch\u001b[39m.\u001b[39meinsum(\u001b[39m'\u001b[39m\u001b[39mbid,bid->bi\u001b[39m\u001b[39m'\u001b[39m,queries, queries)\u001b[39m.\u001b[39munsqueeze(\u001b[39m2\u001b[39m)\n\u001b[1;32m    <a href='file:///Users/benfei/Documents/DropTheGAN/gpnn.py?line=135'>136</a>\u001b[0m y2 \u001b[39m=\u001b[39m torch\u001b[39m.\u001b[39meinsum(\u001b[39m'\u001b[39m\u001b[39mbjd,bjd->bj\u001b[39m\u001b[39m'\u001b[39m, keys, keys)\u001b[39m.\u001b[39munsqueeze(\u001b[39m1\u001b[39m)\n\u001b[0;32m--> <a href='file:///Users/benfei/Documents/DropTheGAN/gpnn.py?line=136'>137</a>\u001b[0m xy \u001b[39m=\u001b[39m torch\u001b[39m.\u001b[39;49meinsum(\u001b[39m'\u001b[39;49m\u001b[39mbid,bjd->bij\u001b[39;49m\u001b[39m'\u001b[39;49m, queries, keys)\n\u001b[1;32m    <a href='file:///Users/benfei/Documents/DropTheGAN/gpnn.py?line=137'>138</a>\u001b[0m \u001b[39mreturn\u001b[39;00m (x2 \u001b[39m+\u001b[39m y2 \u001b[39m-\u001b[39m \u001b[39m2\u001b[39m \u001b[39m*\u001b[39m xy) \u001b[39m/\u001b[39m queries\u001b[39m.\u001b[39mshape[\u001b[39m-\u001b[39m\u001b[39m1\u001b[39m]\n",
      "File \u001b[0;32m/opt/homebrew/Caskroom/mambaforge/base/envs/dropthegan/lib/python3.10/site-packages/torch/functional.py:330\u001b[0m, in \u001b[0;36meinsum\u001b[0;34m(*args)\u001b[0m\n\u001b[1;32m    <a href='file:///opt/homebrew/Caskroom/mambaforge/base/envs/dropthegan/lib/python3.10/site-packages/torch/functional.py?line=325'>326</a>\u001b[0m     \u001b[39m# recurse incase operands contains value that has torch function\u001b[39;00m\n\u001b[1;32m    <a href='file:///opt/homebrew/Caskroom/mambaforge/base/envs/dropthegan/lib/python3.10/site-packages/torch/functional.py?line=326'>327</a>\u001b[0m     \u001b[39m# in the original implementation this line is omitted\u001b[39;00m\n\u001b[1;32m    <a href='file:///opt/homebrew/Caskroom/mambaforge/base/envs/dropthegan/lib/python3.10/site-packages/torch/functional.py?line=327'>328</a>\u001b[0m     \u001b[39mreturn\u001b[39;00m einsum(equation, \u001b[39m*\u001b[39m_operands)\n\u001b[0;32m--> <a href='file:///opt/homebrew/Caskroom/mambaforge/base/envs/dropthegan/lib/python3.10/site-packages/torch/functional.py?line=329'>330</a>\u001b[0m \u001b[39mreturn\u001b[39;00m _VF\u001b[39m.\u001b[39;49meinsum(equation, operands)\n",
      "\u001b[0;31mKeyboardInterrupt\u001b[0m: "
     ]
    }
   ],
   "source": [
    "out = retargeting(small_image.unsqueeze(0), alpha=100, retargeting_ratio=(0.75, 0.75), min_axis_size_coarsest=28)"
   ]
  },
  {
   "cell_type": "code",
   "execution_count": null,
   "metadata": {},
   "outputs": [],
   "source": [
    "out = gpnn.gpnn(pyramid, torch.rand_like(pyramid[-1]), patch_size=3)"
   ]
  },
  {
   "cell_type": "code",
   "execution_count": 6,
   "metadata": {},
   "outputs": [],
   "source": [
    "image = utils.imread('balloons.png')"
   ]
  },
  {
   "cell_type": "code",
   "execution_count": 14,
   "metadata": {},
   "outputs": [
    {
     "data": {
      "application/vnd.jupyter.widget-view+json": {
       "model_id": "d073abc8903c4a48a971f61087bff272",
       "version_major": 2,
       "version_minor": 0
      },
      "text/plain": [
       "Image(value=b'\\x89PNG\\r\\n\\x1a\\n\\x00\\x00\\x00\\rIHDR\\x00\\x00\\x00\\xf8\\x00\\x00\\x00\\xba\\x08\\x02\\x00\\x00\\x00\\x0c#\\x17…"
      ]
     },
     "metadata": {},
     "output_type": "display_data"
    }
   ],
   "source": [
    "image_utils.imshow(image)"
   ]
  },
  {
   "cell_type": "code",
   "execution_count": 10,
   "metadata": {},
   "outputs": [],
   "source": [
    "small_image = resize_right.resize(image, (1, 0.75, 0.75))"
   ]
  },
  {
   "cell_type": "code",
   "execution_count": 25,
   "metadata": {},
   "outputs": [
    {
     "name": "stdout",
     "output_type": "stream",
     "text": [
      "torch.Size([1, 3, 15, 19])\n"
     ]
    },
    {
     "data": {
      "application/vnd.jupyter.widget-view+json": {
       "model_id": "7b9b665db30c430cbae622ba3512adaa",
       "version_major": 2,
       "version_minor": 0
      },
      "text/plain": [
       "Image(value=b'\\x89PNG\\r\\n\\x1a\\n\\x00\\x00\\x00\\rIHDR\\x00\\x00\\x00\\x13\\x00\\x00\\x00\\x0f\\x08\\x02\\x00\\x00\\x00\\x89&c{\\x…"
      ]
     },
     "metadata": {},
     "output_type": "display_data"
    },
    {
     "name": "stdout",
     "output_type": "stream",
     "text": [
      "level: 8\n",
      "corasest iteration: 0\n",
      "torch.Size([1, 3, 15, 19])\n"
     ]
    },
    {
     "data": {
      "application/vnd.jupyter.widget-view+json": {
       "model_id": "8398cb3a900d415e87c8383a71991e93",
       "version_major": 2,
       "version_minor": 0
      },
      "text/plain": [
       "Image(value=b'\\x89PNG\\r\\n\\x1a\\n\\x00\\x00\\x00\\rIHDR\\x00\\x00\\x00\\x13\\x00\\x00\\x00\\x0f\\x08\\x02\\x00\\x00\\x00\\x89&c{\\x…"
      ]
     },
     "metadata": {},
     "output_type": "display_data"
    },
    {
     "name": "stdout",
     "output_type": "stream",
     "text": [
      "level: 7\n",
      "iteration: 0\n",
      "iteration: 1\n",
      "iteration: 2\n",
      "iteration: 3\n",
      "iteration: 4\n",
      "iteration: 5\n",
      "iteration: 6\n",
      "iteration: 7\n",
      "iteration: 8\n",
      "iteration: 9\n",
      "torch.Size([1, 3, 19, 25])\n"
     ]
    },
    {
     "data": {
      "application/vnd.jupyter.widget-view+json": {
       "model_id": "ee317279f3e2418cb9a0e5bd945ac715",
       "version_major": 2,
       "version_minor": 0
      },
      "text/plain": [
       "Image(value=b'\\x89PNG\\r\\n\\x1a\\n\\x00\\x00\\x00\\rIHDR\\x00\\x00\\x00\\x19\\x00\\x00\\x00\\x13\\x08\\x02\\x00\\x00\\x00\\xea\\x101…"
      ]
     },
     "metadata": {},
     "output_type": "display_data"
    },
    {
     "name": "stdout",
     "output_type": "stream",
     "text": [
      "level: 6\n",
      "iteration: 0\n",
      "iteration: 1\n",
      "iteration: 2\n",
      "iteration: 3\n",
      "iteration: 4\n",
      "iteration: 5\n",
      "iteration: 6\n",
      "iteration: 7\n",
      "iteration: 8\n",
      "iteration: 9\n",
      "torch.Size([1, 3, 25, 34])\n"
     ]
    },
    {
     "data": {
      "application/vnd.jupyter.widget-view+json": {
       "model_id": "1209a4c0a2e34bf2a4f33e8dc0b22922",
       "version_major": 2,
       "version_minor": 0
      },
      "text/plain": [
       "Image(value=b'\\x89PNG\\r\\n\\x1a\\n\\x00\\x00\\x00\\rIHDR\\x00\\x00\\x00\"\\x00\\x00\\x00\\x19\\x08\\x02\\x00\\x00\\x00\\xdb\\x98k\\xf…"
      ]
     },
     "metadata": {},
     "output_type": "display_data"
    },
    {
     "name": "stdout",
     "output_type": "stream",
     "text": [
      "level: 5\n",
      "iteration: 0\n",
      "iteration: 1\n",
      "iteration: 2\n",
      "iteration: 3\n",
      "iteration: 4\n",
      "iteration: 5\n",
      "iteration: 6\n",
      "iteration: 7\n",
      "iteration: 8\n",
      "iteration: 9\n",
      "torch.Size([1, 3, 34, 45])\n"
     ]
    },
    {
     "data": {
      "application/vnd.jupyter.widget-view+json": {
       "model_id": "b0f1500d74d34f58bafac61d78861fc0",
       "version_major": 2,
       "version_minor": 0
      },
      "text/plain": [
       "Image(value=b'\\x89PNG\\r\\n\\x1a\\n\\x00\\x00\\x00\\rIHDR\\x00\\x00\\x00-\\x00\\x00\\x00\"\\x08\\x02\\x00\\x00\\x00D.\\xc7\\x18\\x00\\…"
      ]
     },
     "metadata": {},
     "output_type": "display_data"
    },
    {
     "name": "stdout",
     "output_type": "stream",
     "text": [
      "level: 4\n",
      "iteration: 0\n",
      "iteration: 1\n",
      "iteration: 2\n",
      "iteration: 3\n",
      "iteration: 4\n",
      "iteration: 5\n",
      "iteration: 6\n",
      "iteration: 7\n",
      "iteration: 8\n",
      "iteration: 9\n",
      "torch.Size([1, 3, 45, 59])\n"
     ]
    },
    {
     "data": {
      "application/vnd.jupyter.widget-view+json": {
       "model_id": "1bdb1537081744959ad3ff3f42bb226b",
       "version_major": 2,
       "version_minor": 0
      },
      "text/plain": [
       "Image(value=b'\\x89PNG\\r\\n\\x1a\\n\\x00\\x00\\x00\\rIHDR\\x00\\x00\\x00;\\x00\\x00\\x00-\\x08\\x02\\x00\\x00\\x00\\x9f\\xc8\\x84b\\x…"
      ]
     },
     "metadata": {},
     "output_type": "display_data"
    },
    {
     "name": "stdout",
     "output_type": "stream",
     "text": [
      "level: 3\n",
      "iteration: 0\n",
      "iteration: 1\n",
      "iteration: 2\n",
      "iteration: 3\n",
      "iteration: 4\n",
      "iteration: 5\n",
      "iteration: 6\n",
      "iteration: 7\n",
      "iteration: 8\n",
      "iteration: 9\n",
      "torch.Size([1, 3, 60, 79])\n"
     ]
    },
    {
     "data": {
      "application/vnd.jupyter.widget-view+json": {
       "model_id": "f06ed89a8534407abfde1d814e773671",
       "version_major": 2,
       "version_minor": 0
      },
      "text/plain": [
       "Image(value=b'\\x89PNG\\r\\n\\x1a\\n\\x00\\x00\\x00\\rIHDR\\x00\\x00\\x00O\\x00\\x00\\x00<\\x08\\x02\\x00\\x00\\x00\\xa8\\xe0p\\xbe\\x…"
      ]
     },
     "metadata": {},
     "output_type": "display_data"
    },
    {
     "name": "stdout",
     "output_type": "stream",
     "text": [
      "level: 2\n",
      "iteration: 0\n",
      "iteration: 1\n",
      "iteration: 2\n",
      "iteration: 3\n",
      "iteration: 4\n",
      "iteration: 5\n",
      "iteration: 6\n",
      "iteration: 7\n",
      "iteration: 8\n",
      "iteration: 9\n",
      "torch.Size([1, 3, 79, 105])\n"
     ]
    },
    {
     "data": {
      "application/vnd.jupyter.widget-view+json": {
       "model_id": "893a544073194a72acba9f1a2a35aa4d",
       "version_major": 2,
       "version_minor": 0
      },
      "text/plain": [
       "Image(value=b'\\x89PNG\\r\\n\\x1a\\n\\x00\\x00\\x00\\rIHDR\\x00\\x00\\x00i\\x00\\x00\\x00O\\x08\\x02\\x00\\x00\\x00g\\x15|F\\x00\\x00…"
      ]
     },
     "metadata": {},
     "output_type": "display_data"
    },
    {
     "name": "stdout",
     "output_type": "stream",
     "text": [
      "level: 1\n",
      "iteration: 0\n",
      "iteration: 1\n",
      "iteration: 2\n",
      "iteration: 3\n",
      "iteration: 4\n",
      "iteration: 5\n",
      "iteration: 6\n",
      "iteration: 7\n",
      "iteration: 8\n",
      "iteration: 9\n",
      "torch.Size([1, 3, 105, 140])\n"
     ]
    },
    {
     "data": {
      "application/vnd.jupyter.widget-view+json": {
       "model_id": "0f83a4a831ee4f4796e64e2b1210071b",
       "version_major": 2,
       "version_minor": 0
      },
      "text/plain": [
       "Image(value=b'\\x89PNG\\r\\n\\x1a\\n\\x00\\x00\\x00\\rIHDR\\x00\\x00\\x00\\x8c\\x00\\x00\\x00i\\x08\\x02\\x00\\x00\\x00g+\\\\X\\x00\\x0…"
      ]
     },
     "metadata": {},
     "output_type": "display_data"
    },
    {
     "name": "stdout",
     "output_type": "stream",
     "text": [
      "level: 0\n",
      "iteration: 0\n",
      "iteration: 1\n",
      "iteration: 2\n",
      "iteration: 3\n",
      "iteration: 4\n",
      "iteration: 5\n",
      "iteration: 6\n",
      "iteration: 7\n",
      "iteration: 8\n",
      "iteration: 9\n",
      "torch.Size([1, 3, 140, 186])\n"
     ]
    },
    {
     "data": {
      "application/vnd.jupyter.widget-view+json": {
       "model_id": "5e9ce024132e48199c8c1e0b35f6bc08",
       "version_major": 2,
       "version_minor": 0
      },
      "text/plain": [
       "Image(value=b'\\x89PNG\\r\\n\\x1a\\n\\x00\\x00\\x00\\rIHDR\\x00\\x00\\x00\\xba\\x00\\x00\\x00\\x8c\\x08\\x02\\x00\\x00\\x00DO$\\x16\\x…"
      ]
     },
     "metadata": {},
     "output_type": "display_data"
    }
   ],
   "source": [
    "out = image_generation(small_image.unsqueeze(0), num_levels=8, alpha=10)"
   ]
  },
  {
   "cell_type": "code",
   "execution_count": 24,
   "metadata": {},
   "outputs": [
    {
     "data": {
      "application/vnd.jupyter.widget-view+json": {
       "model_id": "507a62c13f0a43f3b693744a79ba4ff5",
       "version_major": 2,
       "version_minor": 0
      },
      "text/plain": [
       "Image(value=b'\\x89PNG\\r\\n\\x1a\\n\\x00\\x00\\x00\\rIHDR\\x00\\x00\\x00\\xba\\x00\\x00\\x00\\x8c\\x08\\x02\\x00\\x00\\x00DO$\\x16\\x…"
      ]
     },
     "metadata": {},
     "output_type": "display_data"
    },
    {
     "data": {
      "application/vnd.jupyter.widget-view+json": {
       "model_id": "1f977dbf6bce4eac8dfeb3b9588fd113",
       "version_major": 2,
       "version_minor": 0
      },
      "text/plain": [
       "Image(value=b'\\x89PNG\\r\\n\\x1a\\n\\x00\\x00\\x00\\rIHDR\\x00\\x00\\x00\\xba\\x00\\x00\\x00\\x8c\\x08\\x02\\x00\\x00\\x00DO$\\x16\\x…"
      ]
     },
     "metadata": {},
     "output_type": "display_data"
    }
   ],
   "source": [
    "imshow(small_image)\n",
    "imshow(out)"
   ]
  },
  {
   "cell_type": "code",
   "execution_count": 33,
   "metadata": {},
   "outputs": [
    {
     "ename": "TypeError",
     "evalue": "'int' object is not iterable",
     "output_type": "error",
     "traceback": [
      "\u001b[0;31m---------------------------------------------------------------------------\u001b[0m",
      "\u001b[0;31mTypeError\u001b[0m                                 Traceback (most recent call last)",
      "\u001b[1;32m/Users/benfei/Documents/DropTheGAN/integration_test.ipynb Cell 13'\u001b[0m in \u001b[0;36m<cell line: 1>\u001b[0;34m()\u001b[0m\n\u001b[0;32m----> <a href='vscode-notebook-cell:/Users/benfei/Documents/DropTheGAN/integration_test.ipynb#ch0000029?line=0'>1</a>\u001b[0m out \u001b[39m=\u001b[39m retargeting(small_image, retargeting_ratio\u001b[39m=\u001b[39;49m(\u001b[39m0.75\u001b[39;49m, \u001b[39m0.75\u001b[39;49m))\n",
      "\u001b[1;32m/Users/benfei/Documents/DropTheGAN/integration_test.ipynb Cell 6'\u001b[0m in \u001b[0;36mretargeting\u001b[0;34m(image, retargeting_ratio, alpha, patch_size, reduce, downscale_ratio, max_num_levels, gradual, min_axis_size_coarsest)\u001b[0m\n\u001b[1;32m     <a href='vscode-notebook-cell:/Users/benfei/Documents/DropTheGAN/integration_test.ipynb#ch0000030?line=32'>33</a>\u001b[0m num_steps, step_size \u001b[39m=\u001b[39m _get_retargeting_step_size(retargeting_ratio, gradual)\n\u001b[1;32m     <a href='vscode-notebook-cell:/Users/benfei/Documents/DropTheGAN/integration_test.ipynb#ch0000030?line=33'>34</a>\u001b[0m generated \u001b[39m=\u001b[39m image\n\u001b[0;32m---> <a href='vscode-notebook-cell:/Users/benfei/Documents/DropTheGAN/integration_test.ipynb#ch0000030?line=34'>35</a>\u001b[0m \u001b[39mfor\u001b[39;00m _ \u001b[39min\u001b[39;00m num_steps:\n\u001b[1;32m     <a href='vscode-notebook-cell:/Users/benfei/Documents/DropTheGAN/integration_test.ipynb#ch0000030?line=35'>36</a>\u001b[0m     resized_generated \u001b[39m=\u001b[39m resize_right\u001b[39m.\u001b[39mresize(generated, step_size)\n\u001b[1;32m     <a href='vscode-notebook-cell:/Users/benfei/Documents/DropTheGAN/integration_test.ipynb#ch0000030?line=36'>37</a>\u001b[0m     current_num_levels \u001b[39m=\u001b[39m _get_num_levels(resized_generated\u001b[39m.\u001b[39mshape[\u001b[39m-\u001b[39m\u001b[39m2\u001b[39m:], min_axis_size_coarsest, downscale_ratio)\n",
      "\u001b[0;31mTypeError\u001b[0m: 'int' object is not iterable"
     ]
    }
   ],
   "source": [
    "out = retargeting(small_image, retargeting_ratio=(0.75, 0.75))"
   ]
  },
  {
   "cell_type": "code",
   "execution_count": null,
   "metadata": {},
   "outputs": [],
   "source": []
  }
 ],
 "metadata": {
  "interpreter": {
   "hash": "2c5d68d5ffe68388c34cf58ae22a6c80e30730d6e4582d5cf98b26ba7b79a13f"
  },
  "kernelspec": {
   "display_name": "Python 3.10.4 ('dropthegan')",
   "language": "python",
   "name": "python3"
  },
  "language_info": {
   "codemirror_mode": {
    "name": "ipython",
    "version": 3
   },
   "file_extension": ".py",
   "mimetype": "text/x-python",
   "name": "python",
   "nbconvert_exporter": "python",
   "pygments_lexer": "ipython3",
   "version": "3.10.4"
  },
  "orig_nbformat": 4
 },
 "nbformat": 4,
 "nbformat_minor": 2
}

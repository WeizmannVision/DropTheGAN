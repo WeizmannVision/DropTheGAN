{
 "cells": [
  {
   "cell_type": "code",
   "execution_count": 86,
   "metadata": {},
   "outputs": [
    {
     "name": "stdout",
     "output_type": "stream",
     "text": [
      "The autoreload extension is already loaded. To reload it, use:\n",
      "  %reload_ext autoreload\n"
     ]
    }
   ],
   "source": [
    "import math\n",
    "from typing import List, Optional, Sequence, Tuple\n",
    "\n",
    "import torch\n",
    "from torch import nn\n",
    "from torch.nn import functional as F\n",
    "\n",
    "%load_ext autoreload\n",
    "%autoreload 2\n",
    "import fold\n",
    "import gpnn\n",
    "import image as image_utils\n",
    "import new_utils as utils\n",
    "import resize_right"
   ]
  },
  {
   "cell_type": "code",
   "execution_count": 93,
   "metadata": {},
   "outputs": [
    {
     "data": {
      "application/vnd.jupyter.widget-view+json": {
       "model_id": "98fc1dbf2ca14f46b844435695adbad9",
       "version_major": 2,
       "version_minor": 0
      },
      "text/plain": [
       "Image(value=b'\\x89PNG\\r\\n\\x1a\\n\\x00\\x00\\x00\\rIHDR\\x00\\x00\\x00\\xf8\\x00\\x00\\x00\\xba\\x08\\x02\\x00\\x00\\x00\\x0c#\\x17…"
      ]
     },
     "metadata": {},
     "output_type": "display_data"
    }
   ],
   "source": [
    "image = utils.imread('balloons.png')\n",
    "small_image = resize_right.resize(image, (1, 0.75, 0.75))\n",
    "image_utils.imshow(image)"
   ]
  },
  {
   "cell_type": "code",
   "execution_count": 5,
   "metadata": {},
   "outputs": [],
   "source": [
    "def image_generation(image: torch.Tensor, noise_std: float = 0.75, alpha: float = float('inf'),\n",
    "                     patch_size: int = 7, reduce: str = 'weighted_mean', \n",
    "                     downscale_ratio: float = 0.75, num_levels: int = 9) -> torch.Tensor:\n",
    "    pyramid = gpnn.make_pyramid(image, num_levels, downscale_ratio)\n",
    "    initial_guess = pyramid[-1] + noise_std * torch.randn_like(pyramid[-1])\n",
    "    return gpnn.gpnn(pyramid, initial_guess, alpha=alpha, downscale_ratio=downscale_ratio,\n",
    "                     patch_size=patch_size, reduce=reduce)"
   ]
  },
  {
   "cell_type": "code",
   "execution_count": 143,
   "metadata": {},
   "outputs": [],
   "source": [
    "def image_editing(source_image: torch.Tensor, edited_image: torch.Tensor,\n",
    "                  alpha: float = float('inf'), patch_size: int = 7,\n",
    "                  reduce: str = 'weighted_mean', \n",
    "                  downscale_ratio: float = 0.75, num_levels: int = 5) -> torch.Tensor:\n",
    "    source_pyramid = gpnn.make_pyramid(source_image, num_levels, downscale_ratio)\n",
    "    edited_pyramid = gpnn.make_pyramid(edited_image, num_levels, downscale_ratio)\n",
    "    initial_guess = edited_pyramid[-1]\n",
    "    return gpnn.gpnn(source_pyramid, initial_guess, alpha=alpha, downscale_ratio=downscale_ratio,\n",
    "                     patch_size=patch_size, reduce=reduce)"
   ]
  },
  {
   "cell_type": "code",
   "execution_count": 145,
   "metadata": {},
   "outputs": [
    {
     "data": {
      "application/vnd.jupyter.widget-view+json": {
       "model_id": "14c1235188544f24ab60607c3ec53145",
       "version_major": 2,
       "version_minor": 0
      },
      "text/plain": [
       "Image(value=b'\\x89PNG\\r\\n\\x1a\\n\\x00\\x00\\x00\\rIHDR\\x00\\x00\\x00\\xfa\\x00\\x00\\x00\\xa8\\x08\\x02\\x00\\x00\\x00F\\xc8d\\x9…"
      ]
     },
     "metadata": {},
     "output_type": "display_data"
    },
    {
     "data": {
      "application/vnd.jupyter.widget-view+json": {
       "model_id": "e218c73ec017472fbb81cdbaa5611538",
       "version_major": 2,
       "version_minor": 0
      },
      "text/plain": [
       "Image(value=b'\\x89PNG\\r\\n\\x1a\\n\\x00\\x00\\x00\\rIHDR\\x00\\x00\\x00\\xfa\\x00\\x00\\x00\\xa8\\x08\\x02\\x00\\x00\\x00F\\xc8d\\x9…"
      ]
     },
     "metadata": {},
     "output_type": "display_data"
    },
    {
     "name": "stdout",
     "output_type": "stream",
     "text": [
      "initial guess shape: torch.Size([3, 40, 60])\n"
     ]
    },
    {
     "data": {
      "application/vnd.jupyter.widget-view+json": {
       "model_id": "5401b528a72f48a5869ddda48ee6478f",
       "version_major": 2,
       "version_minor": 0
      },
      "text/plain": [
       "Image(value=b'\\x89PNG\\r\\n\\x1a\\n\\x00\\x00\\x00\\rIHDR\\x00\\x00\\x00<\\x00\\x00\\x00(\\x08\\x02\\x00\\x00\\x00-\\xd9\\x0e\\xa8\\x…"
      ]
     },
     "metadata": {},
     "output_type": "display_data"
    },
    {
     "name": "stdout",
     "output_type": "stream",
     "text": [
      "level: 5\n",
      "corasest iteration: 0\n",
      "output shape: torch.Size([3, 40, 60])\n"
     ]
    },
    {
     "data": {
      "application/vnd.jupyter.widget-view+json": {
       "model_id": "eb3f48fbea10450182d77e9d058bf89f",
       "version_major": 2,
       "version_minor": 0
      },
      "text/plain": [
       "Image(value=b'\\x89PNG\\r\\n\\x1a\\n\\x00\\x00\\x00\\rIHDR\\x00\\x00\\x00<\\x00\\x00\\x00(\\x08\\x02\\x00\\x00\\x00-\\xd9\\x0e\\xa8\\x…"
      ]
     },
     "metadata": {},
     "output_type": "display_data"
    },
    {
     "name": "stdout",
     "output_type": "stream",
     "text": [
      "level: 4\n",
      "iteration: 0\n",
      "iteration: 1\n",
      "iteration: 2\n",
      "iteration: 3\n",
      "iteration: 4\n",
      "iteration: 5\n",
      "iteration: 6\n",
      "iteration: 7\n",
      "iteration: 8\n",
      "iteration: 9\n",
      "output shape: torch.Size([3, 54, 80])\n"
     ]
    },
    {
     "data": {
      "application/vnd.jupyter.widget-view+json": {
       "model_id": "22e21c57886d495bb5bb03124b0c84dd",
       "version_major": 2,
       "version_minor": 0
      },
      "text/plain": [
       "Image(value=b'\\x89PNG\\r\\n\\x1a\\n\\x00\\x00\\x00\\rIHDR\\x00\\x00\\x00P\\x00\\x00\\x006\\x08\\x02\\x00\\x00\\x00\\xdf\\xde\\x89\\xb…"
      ]
     },
     "metadata": {},
     "output_type": "display_data"
    },
    {
     "name": "stdout",
     "output_type": "stream",
     "text": [
      "level: 3\n",
      "iteration: 0\n",
      "iteration: 1\n",
      "iteration: 2\n",
      "iteration: 3\n",
      "iteration: 4\n",
      "iteration: 5\n",
      "iteration: 6\n",
      "iteration: 7\n",
      "iteration: 8\n",
      "iteration: 9\n",
      "output shape: torch.Size([3, 71, 106])\n"
     ]
    },
    {
     "data": {
      "application/vnd.jupyter.widget-view+json": {
       "model_id": "a41bbc173bb342729951129f6497ffdf",
       "version_major": 2,
       "version_minor": 0
      },
      "text/plain": [
       "Image(value=b'\\x89PNG\\r\\n\\x1a\\n\\x00\\x00\\x00\\rIHDR\\x00\\x00\\x00j\\x00\\x00\\x00G\\x08\\x02\\x00\\x00\\x00`qE(\\x00\\x008\\x…"
      ]
     },
     "metadata": {},
     "output_type": "display_data"
    },
    {
     "name": "stdout",
     "output_type": "stream",
     "text": [
      "level: 2\n",
      "iteration: 0\n",
      "iteration: 1\n",
      "iteration: 2\n",
      "iteration: 3\n",
      "iteration: 4\n",
      "iteration: 5\n",
      "iteration: 6\n",
      "iteration: 7\n",
      "iteration: 8\n",
      "iteration: 9\n",
      "output shape: torch.Size([3, 95, 141])\n"
     ]
    },
    {
     "data": {
      "application/vnd.jupyter.widget-view+json": {
       "model_id": "228265598fce43cb954868346bb12839",
       "version_major": 2,
       "version_minor": 0
      },
      "text/plain": [
       "Image(value=b'\\x89PNG\\r\\n\\x1a\\n\\x00\\x00\\x00\\rIHDR\\x00\\x00\\x00\\x8d\\x00\\x00\\x00_\\x08\\x02\\x00\\x00\\x00Z\\xca\\xd3\\xd…"
      ]
     },
     "metadata": {},
     "output_type": "display_data"
    },
    {
     "name": "stdout",
     "output_type": "stream",
     "text": [
      "level: 1\n",
      "iteration: 0\n",
      "iteration: 1\n",
      "iteration: 2\n",
      "iteration: 3\n",
      "iteration: 4\n",
      "iteration: 5\n",
      "iteration: 6\n",
      "iteration: 7\n",
      "iteration: 8\n",
      "iteration: 9\n",
      "output shape: torch.Size([3, 126, 188])\n"
     ]
    },
    {
     "data": {
      "application/vnd.jupyter.widget-view+json": {
       "model_id": "a0aba591f9894aa8b237a7631b7cd213",
       "version_major": 2,
       "version_minor": 0
      },
      "text/plain": [
       "Image(value=b'\\x89PNG\\r\\n\\x1a\\n\\x00\\x00\\x00\\rIHDR\\x00\\x00\\x00\\xbc\\x00\\x00\\x00~\\x08\\x02\\x00\\x00\\x00\\x11\\x0b\\xec…"
      ]
     },
     "metadata": {},
     "output_type": "display_data"
    },
    {
     "name": "stdout",
     "output_type": "stream",
     "text": [
      "level: 0\n",
      "iteration: 0\n",
      "iteration: 1\n",
      "iteration: 2\n",
      "iteration: 3\n",
      "iteration: 4\n",
      "iteration: 5\n",
      "iteration: 6\n",
      "iteration: 7\n",
      "iteration: 8\n",
      "iteration: 9\n",
      "output shape: torch.Size([3, 168, 250])\n"
     ]
    },
    {
     "data": {
      "application/vnd.jupyter.widget-view+json": {
       "model_id": "bb49eacc50fc4afdb371396910478406",
       "version_major": 2,
       "version_minor": 0
      },
      "text/plain": [
       "Image(value=b'\\x89PNG\\r\\n\\x1a\\n\\x00\\x00\\x00\\rIHDR\\x00\\x00\\x00\\xfa\\x00\\x00\\x00\\xa8\\x08\\x02\\x00\\x00\\x00F\\xc8d\\x9…"
      ]
     },
     "metadata": {},
     "output_type": "display_data"
    },
    {
     "data": {
      "application/vnd.jupyter.widget-view+json": {
       "model_id": "768ae64d4c5140b5b44434cd44a02fd0",
       "version_major": 2,
       "version_minor": 0
      },
      "text/plain": [
       "Image(value=b'\\x89PNG\\r\\n\\x1a\\n\\x00\\x00\\x00\\rIHDR\\x00\\x00\\x00\\xfa\\x00\\x00\\x00\\xa8\\x08\\x02\\x00\\x00\\x00F\\xc8d\\x9…"
      ]
     },
     "metadata": {},
     "output_type": "display_data"
    }
   ],
   "source": [
    "source_image = utils.imread('stone.png')\n",
    "edited_image = utils.imread('stone_edit.png')\n",
    "\n",
    "image_utils.imshow(source_image)\n",
    "image_utils.imshow(edited_image)\n",
    "output = image_editing(source_image, edited_image, num_levels=5)\n",
    "\n",
    "# analogy_ab = structural_analogy(birds_a, birds_b, num_levels=5, alpha=5e-3)\n",
    "# analogy_ba = structural_analogy(birds_b, birds_a, num_levels=5, alpha=5e-5)\n",
    "\n",
    "image_utils.imshow(output)\n",
    "# image_utils.imshow(analogy_ba)"
   ]
  },
  {
   "cell_type": "code",
   "execution_count": 128,
   "metadata": {},
   "outputs": [],
   "source": [
    "def conditional_inpainting(masked_image: torch.Tensor, mask: torch.Tensor,\n",
    "                           alpha: float = float('inf'), patch_size: int = 7,\n",
    "                           reduce: str = 'weighted_mean', \n",
    "                           downscale_ratio: float = 0.75, num_levels: int = 5) -> torch.Tensor:\n",
    "    pyramid = gpnn.make_pyramid(masked_image, num_levels, downscale_ratio)\n",
    "    mask_pyramid = gpnn.make_pyramid(mask.to(masked_image), num_levels, downscale_ratio)\n",
    "    initial_guess = pyramid[-1]\n",
    "    return gpnn.gpnn(pyramid, initial_guess, mask_pyramid=mask_pyramid, alpha=alpha,\n",
    "                     downscale_ratio=downscale_ratio, patch_size=patch_size, reduce=reduce)\n"
   ]
  },
  {
   "cell_type": "code",
   "execution_count": 131,
   "metadata": {},
   "outputs": [],
   "source": [
    "def structural_analogy(source_image: torch.Tensor, structure_image: torch.Tensor,\n",
    "                       alpha: float = 5e-3, patch_size: int = 7,\n",
    "                       reduce: str = 'weighted_mean', \n",
    "                       downscale_ratio: float = 0.75, num_levels: int = 5) -> torch.Tensor:\n",
    "    source_pyramid = gpnn.make_pyramid(source_image, num_levels, downscale_ratio)\n",
    "    structure_pyramid = gpnn.make_pyramid(structure_image, num_levels, downscale_ratio)\n",
    "    output_pyramid_shape = [x.shape for x in structure_pyramid]\n",
    "    initial_guess = structure_pyramid[-1]\n",
    "    return gpnn.gpnn(source_pyramid, initial_guess, output_pyramid_shape=output_pyramid_shape, alpha=alpha,\n",
    "                     downscale_ratio=downscale_ratio, patch_size=patch_size, reduce=reduce)"
   ]
  },
  {
   "cell_type": "code",
   "execution_count": 141,
   "metadata": {},
   "outputs": [
    {
     "data": {
      "application/vnd.jupyter.widget-view+json": {
       "model_id": "13efddeadc764396aa91faa36189c6e0",
       "version_major": 2,
       "version_minor": 0
      },
      "text/plain": [
       "Image(value=b'\\x89PNG\\r\\n\\x1a\\n\\x00\\x00\\x00\\rIHDR\\x00\\x00\\x00\\xdc\\x00\\x00\\x00\\xdc\\x08\\x02\\x00\\x00\\x00\\x948X\\xd…"
      ]
     },
     "metadata": {},
     "output_type": "display_data"
    },
    {
     "data": {
      "application/vnd.jupyter.widget-view+json": {
       "model_id": "d5ee3361988f45f88c03e26544c35df1",
       "version_major": 2,
       "version_minor": 0
      },
      "text/plain": [
       "Image(value=b'\\x89PNG\\r\\n\\x1a\\n\\x00\\x00\\x00\\rIHDR\\x00\\x00\\x00\\xdc\\x00\\x00\\x00\\xdc\\x08\\x02\\x00\\x00\\x00\\x948X\\xd…"
      ]
     },
     "metadata": {},
     "output_type": "display_data"
    },
    {
     "name": "stdout",
     "output_type": "stream",
     "text": [
      "initial guess shape: torch.Size([3, 53, 53])\n"
     ]
    },
    {
     "data": {
      "application/vnd.jupyter.widget-view+json": {
       "model_id": "26b4735475cf459eb9b4990093695cb1",
       "version_major": 2,
       "version_minor": 0
      },
      "text/plain": [
       "Image(value=b'\\x89PNG\\r\\n\\x1a\\n\\x00\\x00\\x00\\rIHDR\\x00\\x00\\x005\\x00\\x00\\x005\\x08\\x02\\x00\\x00\\x00n\\x844\\'\\x00\\x0…"
      ]
     },
     "metadata": {},
     "output_type": "display_data"
    },
    {
     "name": "stdout",
     "output_type": "stream",
     "text": [
      "level: 5\n",
      "corasest iteration: 0\n",
      "output shape: torch.Size([3, 53, 53])\n"
     ]
    },
    {
     "data": {
      "application/vnd.jupyter.widget-view+json": {
       "model_id": "c8d963255a2d460a9bf35ef30492878d",
       "version_major": 2,
       "version_minor": 0
      },
      "text/plain": [
       "Image(value=b'\\x89PNG\\r\\n\\x1a\\n\\x00\\x00\\x00\\rIHDR\\x00\\x00\\x005\\x00\\x00\\x005\\x08\\x02\\x00\\x00\\x00n\\x844\\'\\x00\\x0…"
      ]
     },
     "metadata": {},
     "output_type": "display_data"
    },
    {
     "name": "stdout",
     "output_type": "stream",
     "text": [
      "level: 4\n",
      "iteration: 0\n",
      "iteration: 1\n",
      "iteration: 2\n",
      "iteration: 3\n",
      "iteration: 4\n",
      "iteration: 5\n",
      "iteration: 6\n",
      "iteration: 7\n",
      "iteration: 8\n",
      "iteration: 9\n",
      "output shape: torch.Size([3, 70, 70])\n"
     ]
    },
    {
     "data": {
      "application/vnd.jupyter.widget-view+json": {
       "model_id": "67d234aeccbe443c8d5106a6667caada",
       "version_major": 2,
       "version_minor": 0
      },
      "text/plain": [
       "Image(value=b'\\x89PNG\\r\\n\\x1a\\n\\x00\\x00\\x00\\rIHDR\\x00\\x00\\x00F\\x00\\x00\\x00F\\x08\\x02\\x00\\x00\\x00\\xfeLu\\xd3\\x00\\…"
      ]
     },
     "metadata": {},
     "output_type": "display_data"
    },
    {
     "name": "stdout",
     "output_type": "stream",
     "text": [
      "level: 3\n",
      "iteration: 0\n",
      "iteration: 1\n",
      "iteration: 2\n",
      "iteration: 3\n",
      "iteration: 4\n",
      "iteration: 5\n",
      "iteration: 6\n",
      "iteration: 7\n",
      "iteration: 8\n",
      "iteration: 9\n",
      "output shape: torch.Size([3, 93, 93])\n"
     ]
    },
    {
     "data": {
      "application/vnd.jupyter.widget-view+json": {
       "model_id": "7b9c9a3f04f341ec93caf781bc52d42e",
       "version_major": 2,
       "version_minor": 0
      },
      "text/plain": [
       "Image(value=b'\\x89PNG\\r\\n\\x1a\\n\\x00\\x00\\x00\\rIHDR\\x00\\x00\\x00]\\x00\\x00\\x00]\\x08\\x02\\x00\\x00\\x00H\\x13\\xfd\\x94\\x…"
      ]
     },
     "metadata": {},
     "output_type": "display_data"
    },
    {
     "name": "stdout",
     "output_type": "stream",
     "text": [
      "level: 2\n",
      "iteration: 0\n",
      "iteration: 1\n",
      "iteration: 2\n",
      "iteration: 3\n",
      "iteration: 4\n",
      "iteration: 5\n",
      "iteration: 6\n",
      "iteration: 7\n",
      "iteration: 8\n",
      "iteration: 9\n",
      "output shape: torch.Size([3, 124, 124])\n"
     ]
    },
    {
     "data": {
      "application/vnd.jupyter.widget-view+json": {
       "model_id": "6bc48e1fd1ea467d9738f4e2253cac65",
       "version_major": 2,
       "version_minor": 0
      },
      "text/plain": [
       "Image(value=b'\\x89PNG\\r\\n\\x1a\\n\\x00\\x00\\x00\\rIHDR\\x00\\x00\\x00|\\x00\\x00\\x00|\\x08\\x02\\x00\\x00\\x00$|C\\xe9\\x00\\x00…"
      ]
     },
     "metadata": {},
     "output_type": "display_data"
    },
    {
     "name": "stdout",
     "output_type": "stream",
     "text": [
      "level: 1\n",
      "iteration: 0\n",
      "iteration: 1\n",
      "iteration: 2\n",
      "iteration: 3\n",
      "iteration: 4\n",
      "iteration: 5\n"
     ]
    },
    {
     "ename": "KeyboardInterrupt",
     "evalue": "",
     "output_type": "error",
     "traceback": [
      "\u001b[0;31m---------------------------------------------------------------------------\u001b[0m",
      "\u001b[0;31mKeyboardInterrupt\u001b[0m                         Traceback (most recent call last)",
      "\u001b[1;32m/Users/benfei/Documents/DropTheGAN/integration_test.ipynb Cell 7'\u001b[0m in \u001b[0;36m<cell line: 7>\u001b[0;34m()\u001b[0m\n\u001b[1;32m      <a href='vscode-notebook-cell:/Users/benfei/Documents/DropTheGAN/integration_test.ipynb#ch0000042?line=3'>4</a>\u001b[0m image_utils\u001b[39m.\u001b[39mimshow(birds_a)\n\u001b[1;32m      <a href='vscode-notebook-cell:/Users/benfei/Documents/DropTheGAN/integration_test.ipynb#ch0000042?line=4'>5</a>\u001b[0m image_utils\u001b[39m.\u001b[39mimshow(birds_b)\n\u001b[0;32m----> <a href='vscode-notebook-cell:/Users/benfei/Documents/DropTheGAN/integration_test.ipynb#ch0000042?line=6'>7</a>\u001b[0m analogy_ab \u001b[39m=\u001b[39m structural_analogy(birds_a, birds_b, num_levels\u001b[39m=\u001b[39;49m\u001b[39m5\u001b[39;49m, alpha\u001b[39m=\u001b[39;49m\u001b[39m5e-3\u001b[39;49m)\n\u001b[1;32m      <a href='vscode-notebook-cell:/Users/benfei/Documents/DropTheGAN/integration_test.ipynb#ch0000042?line=7'>8</a>\u001b[0m \u001b[39m# analogy_ba = structural_analogy(birds_b, birds_a, num_levels=5, alpha=5e-5)\u001b[39;00m\n\u001b[1;32m     <a href='vscode-notebook-cell:/Users/benfei/Documents/DropTheGAN/integration_test.ipynb#ch0000042?line=9'>10</a>\u001b[0m image_utils\u001b[39m.\u001b[39mimshow(analogy_ab)\n",
      "\u001b[1;32m/Users/benfei/Documents/DropTheGAN/integration_test.ipynb Cell 6'\u001b[0m in \u001b[0;36mstructural_analogy\u001b[0;34m(source_image, structure_image, alpha, patch_size, reduce, downscale_ratio, num_levels)\u001b[0m\n\u001b[1;32m      <a href='vscode-notebook-cell:/Users/benfei/Documents/DropTheGAN/integration_test.ipynb#ch0000038?line=6'>7</a>\u001b[0m output_pyramid_shape \u001b[39m=\u001b[39m [x\u001b[39m.\u001b[39mshape \u001b[39mfor\u001b[39;00m x \u001b[39min\u001b[39;00m structure_pyramid]\n\u001b[1;32m      <a href='vscode-notebook-cell:/Users/benfei/Documents/DropTheGAN/integration_test.ipynb#ch0000038?line=7'>8</a>\u001b[0m initial_guess \u001b[39m=\u001b[39m structure_pyramid[\u001b[39m-\u001b[39m\u001b[39m1\u001b[39m]\n\u001b[0;32m----> <a href='vscode-notebook-cell:/Users/benfei/Documents/DropTheGAN/integration_test.ipynb#ch0000038?line=8'>9</a>\u001b[0m \u001b[39mreturn\u001b[39;00m gpnn\u001b[39m.\u001b[39;49mgpnn(source_pyramid, initial_guess, output_pyramid_shape\u001b[39m=\u001b[39;49moutput_pyramid_shape, alpha\u001b[39m=\u001b[39;49malpha,\n\u001b[1;32m     <a href='vscode-notebook-cell:/Users/benfei/Documents/DropTheGAN/integration_test.ipynb#ch0000038?line=9'>10</a>\u001b[0m                  downscale_ratio\u001b[39m=\u001b[39;49mdownscale_ratio, patch_size\u001b[39m=\u001b[39;49mpatch_size, reduce\u001b[39m=\u001b[39;49mreduce)\n",
      "File \u001b[0;32m~/Documents/DropTheGAN/gpnn.py:52\u001b[0m, in \u001b[0;36mgpnn\u001b[0;34m(pyramid, initial_guess, downscale_ratio, patch_size, alpha, output_pyramid_shape, mask_pyramid, num_iters_in_level, num_iters_in_coarsest_level, reduce)\u001b[0m\n\u001b[1;32m     <a href='file:///Users/benfei/Documents/DropTheGAN/gpnn.py?line=49'>50</a>\u001b[0m     \u001b[39mfor\u001b[39;00m i \u001b[39min\u001b[39;00m \u001b[39mrange\u001b[39m(num_iters_in_level):\n\u001b[1;32m     <a href='file:///Users/benfei/Documents/DropTheGAN/gpnn.py?line=50'>51</a>\u001b[0m         \u001b[39mprint\u001b[39m(\u001b[39mf\u001b[39m\u001b[39m'\u001b[39m\u001b[39miteration: \u001b[39m\u001b[39m{\u001b[39;00mi\u001b[39m}\u001b[39;00m\u001b[39m'\u001b[39m)\n\u001b[0;32m---> <a href='file:///Users/benfei/Documents/DropTheGAN/gpnn.py?line=51'>52</a>\u001b[0m         generated \u001b[39m=\u001b[39m pnn(generated,\n\u001b[1;32m     <a href='file:///Users/benfei/Documents/DropTheGAN/gpnn.py?line=52'>53</a>\u001b[0m                         key\u001b[39m=\u001b[39;49mblurred,\n\u001b[1;32m     <a href='file:///Users/benfei/Documents/DropTheGAN/gpnn.py?line=53'>54</a>\u001b[0m                         value\u001b[39m=\u001b[39;49mpyramid[level],\n\u001b[1;32m     <a href='file:///Users/benfei/Documents/DropTheGAN/gpnn.py?line=54'>55</a>\u001b[0m                         mask\u001b[39m=\u001b[39;49mmask_pyramid[level],\n\u001b[1;32m     <a href='file:///Users/benfei/Documents/DropTheGAN/gpnn.py?line=55'>56</a>\u001b[0m                         patch_size\u001b[39m=\u001b[39;49mpatch_size,\n\u001b[1;32m     <a href='file:///Users/benfei/Documents/DropTheGAN/gpnn.py?line=56'>57</a>\u001b[0m                         alpha\u001b[39m=\u001b[39;49malpha,\n\u001b[1;32m     <a href='file:///Users/benfei/Documents/DropTheGAN/gpnn.py?line=57'>58</a>\u001b[0m                         reduce\u001b[39m=\u001b[39;49mreduce)\n\u001b[1;32m     <a href='file:///Users/benfei/Documents/DropTheGAN/gpnn.py?line=58'>59</a>\u001b[0m \u001b[39mprint\u001b[39m(\u001b[39mf\u001b[39m\u001b[39m'\u001b[39m\u001b[39moutput shape: \u001b[39m\u001b[39m{\u001b[39;00mgenerated\u001b[39m.\u001b[39mshape\u001b[39m}\u001b[39;00m\u001b[39m'\u001b[39m)\n\u001b[1;32m     <a href='file:///Users/benfei/Documents/DropTheGAN/gpnn.py?line=59'>60</a>\u001b[0m image_utils\u001b[39m.\u001b[39mimshow(generated)\n",
      "File \u001b[0;32m~/Documents/DropTheGAN/gpnn.py:93\u001b[0m, in \u001b[0;36mpnn\u001b[0;34m(query, key, value, mask, patch_size, alpha, reduce)\u001b[0m\n\u001b[1;32m     <a href='file:///Users/benfei/Documents/DropTheGAN/gpnn.py?line=90'>91</a>\u001b[0m     key_patches_column \u001b[39m=\u001b[39m key_patches_column\u001b[39m.\u001b[39msqueeze(\u001b[39m0\u001b[39m)[valid_patches_mask\u001b[39m.\u001b[39msqueeze(\u001b[39m0\u001b[39m)]\u001b[39m.\u001b[39munsqueeze(\u001b[39m0\u001b[39m)\n\u001b[1;32m     <a href='file:///Users/benfei/Documents/DropTheGAN/gpnn.py?line=91'>92</a>\u001b[0m     value_patches_column \u001b[39m=\u001b[39m value_patches_column\u001b[39m.\u001b[39msqueeze(\u001b[39m0\u001b[39m)[valid_patches_mask\u001b[39m.\u001b[39msqueeze(\u001b[39m0\u001b[39m)]\u001b[39m.\u001b[39munsqueeze(\u001b[39m0\u001b[39m)\n\u001b[0;32m---> <a href='file:///Users/benfei/Documents/DropTheGAN/gpnn.py?line=92'>93</a>\u001b[0m _, indices \u001b[39m=\u001b[39m find_normalized_nearest_neighbors(query_patches_column,\n\u001b[1;32m     <a href='file:///Users/benfei/Documents/DropTheGAN/gpnn.py?line=93'>94</a>\u001b[0m                                                key_patches_column, alpha)\n\u001b[1;32m     <a href='file:///Users/benfei/Documents/DropTheGAN/gpnn.py?line=94'>95</a>\u001b[0m \u001b[39m# dist = compute_dist_matrix(query_patches_column, key_patches_column)\u001b[39;00m\n\u001b[1;32m     <a href='file:///Users/benfei/Documents/DropTheGAN/gpnn.py?line=95'>96</a>\u001b[0m \u001b[39m# if alpha is not None:\u001b[39;00m\n\u001b[1;32m     <a href='file:///Users/benfei/Documents/DropTheGAN/gpnn.py?line=96'>97</a>\u001b[0m \u001b[39m#   dist /= dist.min(dim=0, keepdim=True)[0] + alpha\u001b[39;00m\n\u001b[1;32m     <a href='file:///Users/benfei/Documents/DropTheGAN/gpnn.py?line=97'>98</a>\u001b[0m \u001b[39m# indices = dist.argmin(dim=2, keepdims=True)\u001b[39;00m\n\u001b[1;32m     <a href='file:///Users/benfei/Documents/DropTheGAN/gpnn.py?line=98'>99</a>\u001b[0m out_patches_column \u001b[39m=\u001b[39m F\u001b[39m.\u001b[39membedding(indices\u001b[39m.\u001b[39msqueeze(\u001b[39m2\u001b[39m),\n\u001b[1;32m    <a href='file:///Users/benfei/Documents/DropTheGAN/gpnn.py?line=99'>100</a>\u001b[0m                                  value_patches_column\u001b[39m.\u001b[39msqueeze(\u001b[39m0\u001b[39m))\n",
      "File \u001b[0;32m~/Documents/DropTheGAN/gpnn.py:262\u001b[0m, in \u001b[0;36mfind_normalized_nearest_neighbors\u001b[0;34m(queries, keys, alpha, max_memory_usage)\u001b[0m\n\u001b[1;32m    <a href='file:///Users/benfei/Documents/DropTheGAN/gpnn.py?line=253'>254</a>\u001b[0m \u001b[39mdef\u001b[39;00m \u001b[39mfind_normalized_nearest_neighbors\u001b[39m(\n\u001b[1;32m    <a href='file:///Users/benfei/Documents/DropTheGAN/gpnn.py?line=254'>255</a>\u001b[0m     queries: torch\u001b[39m.\u001b[39mTensor,\n\u001b[1;32m    <a href='file:///Users/benfei/Documents/DropTheGAN/gpnn.py?line=255'>256</a>\u001b[0m     keys: torch\u001b[39m.\u001b[39mTensor,\n\u001b[1;32m    <a href='file:///Users/benfei/Documents/DropTheGAN/gpnn.py?line=256'>257</a>\u001b[0m     alpha: \u001b[39mfloat\u001b[39m \u001b[39m=\u001b[39m _INF,\n\u001b[1;32m    <a href='file:///Users/benfei/Documents/DropTheGAN/gpnn.py?line=257'>258</a>\u001b[0m     max_memory_usage: \u001b[39mint\u001b[39m \u001b[39m=\u001b[39m _MAX_MEMORY_SIZE,\n\u001b[1;32m    <a href='file:///Users/benfei/Documents/DropTheGAN/gpnn.py?line=258'>259</a>\u001b[0m ) \u001b[39m-\u001b[39m\u001b[39m>\u001b[39m Tuple[torch\u001b[39m.\u001b[39mTensor, torch\u001b[39m.\u001b[39mTensor]:\n\u001b[1;32m    <a href='file:///Users/benfei/Documents/DropTheGAN/gpnn.py?line=259'>260</a>\u001b[0m     \u001b[39mif\u001b[39;00m alpha \u001b[39m<\u001b[39m _INF:\n\u001b[1;32m    <a href='file:///Users/benfei/Documents/DropTheGAN/gpnn.py?line=260'>261</a>\u001b[0m         \u001b[39m# compute min distance where queries<-keys, and keys<-queries\u001b[39;00m\n\u001b[0;32m--> <a href='file:///Users/benfei/Documents/DropTheGAN/gpnn.py?line=261'>262</a>\u001b[0m         normalizer, _ \u001b[39m=\u001b[39m find_weighted_nearest_neighbors(\n\u001b[1;32m    <a href='file:///Users/benfei/Documents/DropTheGAN/gpnn.py?line=262'>263</a>\u001b[0m             keys, queries, \u001b[39mNone\u001b[39;49;00m, max_memory_usage)\n\u001b[1;32m    <a href='file:///Users/benfei/Documents/DropTheGAN/gpnn.py?line=263'>264</a>\u001b[0m         normalizer \u001b[39m+\u001b[39m\u001b[39m=\u001b[39m alpha\n\u001b[1;32m    <a href='file:///Users/benfei/Documents/DropTheGAN/gpnn.py?line=264'>265</a>\u001b[0m         normalizer \u001b[39m=\u001b[39m \u001b[39m1\u001b[39m \u001b[39m/\u001b[39m normalizer\n",
      "File \u001b[0;32m~/Documents/DropTheGAN/gpnn.py:236\u001b[0m, in \u001b[0;36mfind_weighted_nearest_neighbors\u001b[0;34m(queries, keys, weights, max_memory_usage)\u001b[0m\n\u001b[1;32m    <a href='file:///Users/benfei/Documents/DropTheGAN/gpnn.py?line=233'>234</a>\u001b[0m indices \u001b[39m=\u001b[39m []\n\u001b[1;32m    <a href='file:///Users/benfei/Documents/DropTheGAN/gpnn.py?line=234'>235</a>\u001b[0m \u001b[39mfor\u001b[39;00m start \u001b[39min\u001b[39;00m \u001b[39mrange\u001b[39m(\u001b[39m0\u001b[39m, num_queries, tile_height):\n\u001b[0;32m--> <a href='file:///Users/benfei/Documents/DropTheGAN/gpnn.py?line=235'>236</a>\u001b[0m     value, idx \u001b[39m=\u001b[39m _find_weighted_nearest_neighbors(\n\u001b[1;32m    <a href='file:///Users/benfei/Documents/DropTheGAN/gpnn.py?line=236'>237</a>\u001b[0m         queries[:, start:start \u001b[39m+\u001b[39;49m tile_height], keys,\n\u001b[1;32m    <a href='file:///Users/benfei/Documents/DropTheGAN/gpnn.py?line=237'>238</a>\u001b[0m         _slice_weights(weights, start, start \u001b[39m+\u001b[39;49m tile_height))\n\u001b[1;32m    <a href='file:///Users/benfei/Documents/DropTheGAN/gpnn.py?line=238'>239</a>\u001b[0m     values\u001b[39m.\u001b[39mappend(value)\n\u001b[1;32m    <a href='file:///Users/benfei/Documents/DropTheGAN/gpnn.py?line=239'>240</a>\u001b[0m     indices\u001b[39m.\u001b[39mappend(idx)\n",
      "File \u001b[0;32m~/Documents/DropTheGAN/gpnn.py:212\u001b[0m, in \u001b[0;36m_find_weighted_nearest_neighbors\u001b[0;34m(queries, keys, weights)\u001b[0m\n\u001b[1;32m    <a href='file:///Users/benfei/Documents/DropTheGAN/gpnn.py?line=206'>207</a>\u001b[0m \u001b[39mdef\u001b[39;00m \u001b[39m_find_weighted_nearest_neighbors\u001b[39m(\n\u001b[1;32m    <a href='file:///Users/benfei/Documents/DropTheGAN/gpnn.py?line=207'>208</a>\u001b[0m     queries: torch\u001b[39m.\u001b[39mTensor,\n\u001b[1;32m    <a href='file:///Users/benfei/Documents/DropTheGAN/gpnn.py?line=208'>209</a>\u001b[0m     keys: torch\u001b[39m.\u001b[39mTensor,\n\u001b[1;32m    <a href='file:///Users/benfei/Documents/DropTheGAN/gpnn.py?line=209'>210</a>\u001b[0m     weights: Optional[torch\u001b[39m.\u001b[39mTensor] \u001b[39m=\u001b[39m \u001b[39mNone\u001b[39;00m\n\u001b[1;32m    <a href='file:///Users/benfei/Documents/DropTheGAN/gpnn.py?line=210'>211</a>\u001b[0m ) \u001b[39m-\u001b[39m\u001b[39m>\u001b[39m Tuple[torch\u001b[39m.\u001b[39mTensor, torch\u001b[39m.\u001b[39mTensor]:\n\u001b[0;32m--> <a href='file:///Users/benfei/Documents/DropTheGAN/gpnn.py?line=211'>212</a>\u001b[0m     dists \u001b[39m=\u001b[39m _compute_dist_matrix(queries, keys)\n\u001b[1;32m    <a href='file:///Users/benfei/Documents/DropTheGAN/gpnn.py?line=212'>213</a>\u001b[0m     \u001b[39mif\u001b[39;00m weights \u001b[39mis\u001b[39;00m \u001b[39mnot\u001b[39;00m \u001b[39mNone\u001b[39;00m:\n\u001b[1;32m    <a href='file:///Users/benfei/Documents/DropTheGAN/gpnn.py?line=213'>214</a>\u001b[0m         dists \u001b[39m*\u001b[39m\u001b[39m=\u001b[39m weights\n",
      "File \u001b[0;32m~/Documents/DropTheGAN/gpnn.py:141\u001b[0m, in \u001b[0;36m_compute_dist_matrix\u001b[0;34m(queries, keys)\u001b[0m\n\u001b[1;32m    <a href='file:///Users/benfei/Documents/DropTheGAN/gpnn.py?line=137'>138</a>\u001b[0m \u001b[39mdef\u001b[39;00m \u001b[39m_compute_dist_matrix\u001b[39m(queries: torch\u001b[39m.\u001b[39mTensor,\n\u001b[1;32m    <a href='file:///Users/benfei/Documents/DropTheGAN/gpnn.py?line=138'>139</a>\u001b[0m                          keys: torch\u001b[39m.\u001b[39mTensor) \u001b[39m-\u001b[39m\u001b[39m>\u001b[39m torch\u001b[39m.\u001b[39mTensor:\n\u001b[1;32m    <a href='file:///Users/benfei/Documents/DropTheGAN/gpnn.py?line=139'>140</a>\u001b[0m     \u001b[39m\"\"\"Computes a matrix of MSE between each query and each key.\"\"\"\u001b[39;00m\n\u001b[0;32m--> <a href='file:///Users/benfei/Documents/DropTheGAN/gpnn.py?line=140'>141</a>\u001b[0m     \u001b[39mreturn\u001b[39;00m torch\u001b[39m.\u001b[39;49mcdist(queries, keys, p\u001b[39m=\u001b[39;49m\u001b[39m2\u001b[39;49m)\u001b[39m.\u001b[39mpow(\u001b[39m2\u001b[39m) \u001b[39m/\u001b[39m queries\u001b[39m.\u001b[39mshape[\u001b[39m-\u001b[39m\u001b[39m1\u001b[39m]\n",
      "File \u001b[0;32m/opt/homebrew/Caskroom/mambaforge/base/envs/dropthegan/lib/python3.10/site-packages/torch/functional.py:1278\u001b[0m, in \u001b[0;36mcdist\u001b[0;34m(x1, x2, p, compute_mode)\u001b[0m\n\u001b[1;32m   <a href='file:///opt/homebrew/Caskroom/mambaforge/base/envs/dropthegan/lib/python3.10/site-packages/torch/functional.py?line=1274'>1275</a>\u001b[0m     \u001b[39mreturn\u001b[39;00m handle_torch_function(\n\u001b[1;32m   <a href='file:///opt/homebrew/Caskroom/mambaforge/base/envs/dropthegan/lib/python3.10/site-packages/torch/functional.py?line=1275'>1276</a>\u001b[0m         cdist, (x1, x2), x1, x2, p\u001b[39m=\u001b[39mp, compute_mode\u001b[39m=\u001b[39mcompute_mode)\n\u001b[1;32m   <a href='file:///opt/homebrew/Caskroom/mambaforge/base/envs/dropthegan/lib/python3.10/site-packages/torch/functional.py?line=1276'>1277</a>\u001b[0m \u001b[39mif\u001b[39;00m compute_mode \u001b[39m==\u001b[39m \u001b[39m'\u001b[39m\u001b[39muse_mm_for_euclid_dist_if_necessary\u001b[39m\u001b[39m'\u001b[39m:\n\u001b[0;32m-> <a href='file:///opt/homebrew/Caskroom/mambaforge/base/envs/dropthegan/lib/python3.10/site-packages/torch/functional.py?line=1277'>1278</a>\u001b[0m     \u001b[39mreturn\u001b[39;00m _VF\u001b[39m.\u001b[39;49mcdist(x1, x2, p, \u001b[39mNone\u001b[39;49;00m)  \u001b[39m# type: ignore[attr-defined]\u001b[39;00m\n\u001b[1;32m   <a href='file:///opt/homebrew/Caskroom/mambaforge/base/envs/dropthegan/lib/python3.10/site-packages/torch/functional.py?line=1278'>1279</a>\u001b[0m \u001b[39melif\u001b[39;00m compute_mode \u001b[39m==\u001b[39m \u001b[39m'\u001b[39m\u001b[39muse_mm_for_euclid_dist\u001b[39m\u001b[39m'\u001b[39m:\n\u001b[1;32m   <a href='file:///opt/homebrew/Caskroom/mambaforge/base/envs/dropthegan/lib/python3.10/site-packages/torch/functional.py?line=1279'>1280</a>\u001b[0m     \u001b[39mreturn\u001b[39;00m _VF\u001b[39m.\u001b[39mcdist(x1, x2, p, \u001b[39m1\u001b[39m)  \u001b[39m# type: ignore[attr-defined]\u001b[39;00m\n",
      "\u001b[0;31mKeyboardInterrupt\u001b[0m: "
     ]
    }
   ],
   "source": [
    "birds_a = utils.imread('snow_real_a.jpeg')\n",
    "birds_b = utils.imread('snow_real_b.jpeg')\n",
    "\n",
    "image_utils.imshow(birds_a)\n",
    "image_utils.imshow(birds_b)\n",
    "\n",
    "analogy_ab = structural_analogy(birds_a, birds_b, num_levels=5, alpha=5e-3)\n",
    "# analogy_ba = structural_analogy(birds_b, birds_a, num_levels=5, alpha=5e-5)\n",
    "\n",
    "image_utils.imshow(analogy_ab)\n",
    "# image_utils.imshow(analogy_ba)"
   ]
  },
  {
   "cell_type": "code",
   "execution_count": 140,
   "metadata": {},
   "outputs": [
    {
     "data": {
      "application/vnd.jupyter.widget-view+json": {
       "model_id": "776d197562284b248e96187304fb537f",
       "version_major": 2,
       "version_minor": 0
      },
      "text/plain": [
       "Image(value=b'\\x89PNG\\r\\n\\x1a\\n\\x00\\x00\\x00\\rIHDR\\x00\\x00\\x00\\xdc\\x00\\x00\\x00\\xdc\\x08\\x02\\x00\\x00\\x00\\x948X\\xd…"
      ]
     },
     "metadata": {},
     "output_type": "display_data"
    },
    {
     "data": {
      "application/vnd.jupyter.widget-view+json": {
       "model_id": "c912e0e64372439d8905dd6d5c99db51",
       "version_major": 2,
       "version_minor": 0
      },
      "text/plain": [
       "Image(value=b'\\x89PNG\\r\\n\\x1a\\n\\x00\\x00\\x00\\rIHDR\\x00\\x00\\x00\\xdc\\x00\\x00\\x00\\xdc\\x08\\x02\\x00\\x00\\x00\\x948X\\xd…"
      ]
     },
     "metadata": {},
     "output_type": "display_data"
    },
    {
     "name": "stdout",
     "output_type": "stream",
     "text": [
      "initial guess shape: torch.Size([3, 53, 53])\n"
     ]
    },
    {
     "data": {
      "application/vnd.jupyter.widget-view+json": {
       "model_id": "83798406cacb487abd52fd5a89e9bd20",
       "version_major": 2,
       "version_minor": 0
      },
      "text/plain": [
       "Image(value=b'\\x89PNG\\r\\n\\x1a\\n\\x00\\x00\\x00\\rIHDR\\x00\\x00\\x005\\x00\\x00\\x005\\x08\\x02\\x00\\x00\\x00n\\x844\\'\\x00\\x0…"
      ]
     },
     "metadata": {},
     "output_type": "display_data"
    },
    {
     "name": "stdout",
     "output_type": "stream",
     "text": [
      "level: 5\n",
      "corasest iteration: 0\n",
      "output shape: torch.Size([3, 53, 53])\n"
     ]
    },
    {
     "data": {
      "application/vnd.jupyter.widget-view+json": {
       "model_id": "cceb1842883149f79e8ff8ecb5b28d41",
       "version_major": 2,
       "version_minor": 0
      },
      "text/plain": [
       "Image(value=b'\\x89PNG\\r\\n\\x1a\\n\\x00\\x00\\x00\\rIHDR\\x00\\x00\\x005\\x00\\x00\\x005\\x08\\x02\\x00\\x00\\x00n\\x844\\'\\x00\\x0…"
      ]
     },
     "metadata": {},
     "output_type": "display_data"
    },
    {
     "name": "stdout",
     "output_type": "stream",
     "text": [
      "level: 4\n",
      "iteration: 0\n",
      "iteration: 1\n",
      "iteration: 2\n",
      "iteration: 3\n",
      "iteration: 4\n",
      "iteration: 5\n",
      "iteration: 6\n",
      "iteration: 7\n",
      "iteration: 8\n",
      "iteration: 9\n",
      "output shape: torch.Size([3, 70, 70])\n"
     ]
    },
    {
     "data": {
      "application/vnd.jupyter.widget-view+json": {
       "model_id": "8b986434fe784767b13f3faccc1cbf20",
       "version_major": 2,
       "version_minor": 0
      },
      "text/plain": [
       "Image(value=b'\\x89PNG\\r\\n\\x1a\\n\\x00\\x00\\x00\\rIHDR\\x00\\x00\\x00F\\x00\\x00\\x00F\\x08\\x02\\x00\\x00\\x00\\xfeLu\\xd3\\x00\\…"
      ]
     },
     "metadata": {},
     "output_type": "display_data"
    },
    {
     "name": "stdout",
     "output_type": "stream",
     "text": [
      "level: 3\n",
      "iteration: 0\n",
      "iteration: 1\n",
      "iteration: 2\n",
      "iteration: 3\n",
      "iteration: 4\n",
      "iteration: 5\n",
      "iteration: 6\n",
      "iteration: 7\n",
      "iteration: 8\n",
      "iteration: 9\n",
      "output shape: torch.Size([3, 93, 93])\n"
     ]
    },
    {
     "data": {
      "application/vnd.jupyter.widget-view+json": {
       "model_id": "ce691e5a6d7a4b36b5c458482e69b98b",
       "version_major": 2,
       "version_minor": 0
      },
      "text/plain": [
       "Image(value=b'\\x89PNG\\r\\n\\x1a\\n\\x00\\x00\\x00\\rIHDR\\x00\\x00\\x00]\\x00\\x00\\x00]\\x08\\x02\\x00\\x00\\x00H\\x13\\xfd\\x94\\x…"
      ]
     },
     "metadata": {},
     "output_type": "display_data"
    },
    {
     "name": "stdout",
     "output_type": "stream",
     "text": [
      "level: 2\n",
      "iteration: 0\n",
      "iteration: 1\n",
      "iteration: 2\n",
      "iteration: 3\n",
      "iteration: 4\n",
      "iteration: 5\n",
      "iteration: 6\n"
     ]
    },
    {
     "ename": "KeyboardInterrupt",
     "evalue": "",
     "output_type": "error",
     "traceback": [
      "\u001b[0;31m---------------------------------------------------------------------------\u001b[0m",
      "\u001b[0;31mKeyboardInterrupt\u001b[0m                         Traceback (most recent call last)",
      "\u001b[1;32m/Users/benfei/Documents/DropTheGAN/integration_test.ipynb Cell 8'\u001b[0m in \u001b[0;36m<cell line: 7>\u001b[0;34m()\u001b[0m\n\u001b[1;32m      <a href='vscode-notebook-cell:/Users/benfei/Documents/DropTheGAN/integration_test.ipynb#ch0000039?line=3'>4</a>\u001b[0m image_utils\u001b[39m.\u001b[39mimshow(balloons_in_blue)\n\u001b[1;32m      <a href='vscode-notebook-cell:/Users/benfei/Documents/DropTheGAN/integration_test.ipynb#ch0000039?line=4'>5</a>\u001b[0m image_utils\u001b[39m.\u001b[39mimshow(mask)\n\u001b[0;32m----> <a href='vscode-notebook-cell:/Users/benfei/Documents/DropTheGAN/integration_test.ipynb#ch0000039?line=6'>7</a>\u001b[0m inpainted \u001b[39m=\u001b[39m conditional_inpainting(\n\u001b[1;32m      <a href='vscode-notebook-cell:/Users/benfei/Documents/DropTheGAN/integration_test.ipynb#ch0000039?line=7'>8</a>\u001b[0m     balloons_in_blue,\n\u001b[1;32m      <a href='vscode-notebook-cell:/Users/benfei/Documents/DropTheGAN/integration_test.ipynb#ch0000039?line=8'>9</a>\u001b[0m     \u001b[39m1\u001b[39;49m \u001b[39m-\u001b[39;49m mask[:\u001b[39m1\u001b[39;49m],\n\u001b[1;32m     <a href='vscode-notebook-cell:/Users/benfei/Documents/DropTheGAN/integration_test.ipynb#ch0000039?line=9'>10</a>\u001b[0m     num_levels\u001b[39m=\u001b[39;49m\u001b[39m5\u001b[39;49m,\n\u001b[1;32m     <a href='vscode-notebook-cell:/Users/benfei/Documents/DropTheGAN/integration_test.ipynb#ch0000039?line=10'>11</a>\u001b[0m )\n\u001b[1;32m     <a href='vscode-notebook-cell:/Users/benfei/Documents/DropTheGAN/integration_test.ipynb#ch0000039?line=11'>12</a>\u001b[0m image_utils\u001b[39m.\u001b[39mimshow(inpainted)\n",
      "\u001b[1;32m/Users/benfei/Documents/DropTheGAN/integration_test.ipynb Cell 5'\u001b[0m in \u001b[0;36mconditional_inpainting\u001b[0;34m(masked_image, mask, alpha, patch_size, reduce, downscale_ratio, num_levels)\u001b[0m\n\u001b[1;32m      <a href='vscode-notebook-cell:/Users/benfei/Documents/DropTheGAN/integration_test.ipynb#ch0000037?line=5'>6</a>\u001b[0m mask_pyramid \u001b[39m=\u001b[39m gpnn\u001b[39m.\u001b[39mmake_pyramid(mask\u001b[39m.\u001b[39mto(masked_image), num_levels, downscale_ratio)\n\u001b[1;32m      <a href='vscode-notebook-cell:/Users/benfei/Documents/DropTheGAN/integration_test.ipynb#ch0000037?line=6'>7</a>\u001b[0m initial_guess \u001b[39m=\u001b[39m pyramid[\u001b[39m-\u001b[39m\u001b[39m1\u001b[39m]\n\u001b[0;32m----> <a href='vscode-notebook-cell:/Users/benfei/Documents/DropTheGAN/integration_test.ipynb#ch0000037?line=7'>8</a>\u001b[0m \u001b[39mreturn\u001b[39;00m gpnn\u001b[39m.\u001b[39;49mgpnn(pyramid, initial_guess, mask_pyramid\u001b[39m=\u001b[39;49mmask_pyramid, alpha\u001b[39m=\u001b[39;49malpha,\n\u001b[1;32m      <a href='vscode-notebook-cell:/Users/benfei/Documents/DropTheGAN/integration_test.ipynb#ch0000037?line=8'>9</a>\u001b[0m                  downscale_ratio\u001b[39m=\u001b[39;49mdownscale_ratio, patch_size\u001b[39m=\u001b[39;49mpatch_size, reduce\u001b[39m=\u001b[39;49mreduce)\n",
      "File \u001b[0;32m~/Documents/DropTheGAN/gpnn.py:52\u001b[0m, in \u001b[0;36mgpnn\u001b[0;34m(pyramid, initial_guess, downscale_ratio, patch_size, alpha, output_pyramid_shape, mask_pyramid, num_iters_in_level, num_iters_in_coarsest_level, reduce)\u001b[0m\n\u001b[1;32m     <a href='file:///Users/benfei/Documents/DropTheGAN/gpnn.py?line=49'>50</a>\u001b[0m     \u001b[39mfor\u001b[39;00m i \u001b[39min\u001b[39;00m \u001b[39mrange\u001b[39m(num_iters_in_level):\n\u001b[1;32m     <a href='file:///Users/benfei/Documents/DropTheGAN/gpnn.py?line=50'>51</a>\u001b[0m         \u001b[39mprint\u001b[39m(\u001b[39mf\u001b[39m\u001b[39m'\u001b[39m\u001b[39miteration: \u001b[39m\u001b[39m{\u001b[39;00mi\u001b[39m}\u001b[39;00m\u001b[39m'\u001b[39m)\n\u001b[0;32m---> <a href='file:///Users/benfei/Documents/DropTheGAN/gpnn.py?line=51'>52</a>\u001b[0m         generated \u001b[39m=\u001b[39m pnn(generated,\n\u001b[1;32m     <a href='file:///Users/benfei/Documents/DropTheGAN/gpnn.py?line=52'>53</a>\u001b[0m                         key\u001b[39m=\u001b[39;49mblurred,\n\u001b[1;32m     <a href='file:///Users/benfei/Documents/DropTheGAN/gpnn.py?line=53'>54</a>\u001b[0m                         value\u001b[39m=\u001b[39;49mpyramid[level],\n\u001b[1;32m     <a href='file:///Users/benfei/Documents/DropTheGAN/gpnn.py?line=54'>55</a>\u001b[0m                         mask\u001b[39m=\u001b[39;49mmask_pyramid[level],\n\u001b[1;32m     <a href='file:///Users/benfei/Documents/DropTheGAN/gpnn.py?line=55'>56</a>\u001b[0m                         patch_size\u001b[39m=\u001b[39;49mpatch_size,\n\u001b[1;32m     <a href='file:///Users/benfei/Documents/DropTheGAN/gpnn.py?line=56'>57</a>\u001b[0m                         alpha\u001b[39m=\u001b[39;49malpha,\n\u001b[1;32m     <a href='file:///Users/benfei/Documents/DropTheGAN/gpnn.py?line=57'>58</a>\u001b[0m                         reduce\u001b[39m=\u001b[39;49mreduce)\n\u001b[1;32m     <a href='file:///Users/benfei/Documents/DropTheGAN/gpnn.py?line=58'>59</a>\u001b[0m \u001b[39mprint\u001b[39m(\u001b[39mf\u001b[39m\u001b[39m'\u001b[39m\u001b[39moutput shape: \u001b[39m\u001b[39m{\u001b[39;00mgenerated\u001b[39m.\u001b[39mshape\u001b[39m}\u001b[39;00m\u001b[39m'\u001b[39m)\n\u001b[1;32m     <a href='file:///Users/benfei/Documents/DropTheGAN/gpnn.py?line=59'>60</a>\u001b[0m image_utils\u001b[39m.\u001b[39mimshow(generated)\n",
      "File \u001b[0;32m~/Documents/DropTheGAN/gpnn.py:93\u001b[0m, in \u001b[0;36mpnn\u001b[0;34m(query, key, value, mask, patch_size, alpha, reduce)\u001b[0m\n\u001b[1;32m     <a href='file:///Users/benfei/Documents/DropTheGAN/gpnn.py?line=90'>91</a>\u001b[0m     key_patches_column \u001b[39m=\u001b[39m key_patches_column\u001b[39m.\u001b[39msqueeze(\u001b[39m0\u001b[39m)[valid_patches_mask\u001b[39m.\u001b[39msqueeze(\u001b[39m0\u001b[39m)]\u001b[39m.\u001b[39munsqueeze(\u001b[39m0\u001b[39m)\n\u001b[1;32m     <a href='file:///Users/benfei/Documents/DropTheGAN/gpnn.py?line=91'>92</a>\u001b[0m     value_patches_column \u001b[39m=\u001b[39m value_patches_column\u001b[39m.\u001b[39msqueeze(\u001b[39m0\u001b[39m)[valid_patches_mask\u001b[39m.\u001b[39msqueeze(\u001b[39m0\u001b[39m)]\u001b[39m.\u001b[39munsqueeze(\u001b[39m0\u001b[39m)\n\u001b[0;32m---> <a href='file:///Users/benfei/Documents/DropTheGAN/gpnn.py?line=92'>93</a>\u001b[0m _, indices \u001b[39m=\u001b[39m find_normalized_nearest_neighbors(query_patches_column,\n\u001b[1;32m     <a href='file:///Users/benfei/Documents/DropTheGAN/gpnn.py?line=93'>94</a>\u001b[0m                                                key_patches_column, alpha)\n\u001b[1;32m     <a href='file:///Users/benfei/Documents/DropTheGAN/gpnn.py?line=94'>95</a>\u001b[0m \u001b[39m# dist = compute_dist_matrix(query_patches_column, key_patches_column)\u001b[39;00m\n\u001b[1;32m     <a href='file:///Users/benfei/Documents/DropTheGAN/gpnn.py?line=95'>96</a>\u001b[0m \u001b[39m# if alpha is not None:\u001b[39;00m\n\u001b[1;32m     <a href='file:///Users/benfei/Documents/DropTheGAN/gpnn.py?line=96'>97</a>\u001b[0m \u001b[39m#   dist /= dist.min(dim=0, keepdim=True)[0] + alpha\u001b[39;00m\n\u001b[1;32m     <a href='file:///Users/benfei/Documents/DropTheGAN/gpnn.py?line=97'>98</a>\u001b[0m \u001b[39m# indices = dist.argmin(dim=2, keepdims=True)\u001b[39;00m\n\u001b[1;32m     <a href='file:///Users/benfei/Documents/DropTheGAN/gpnn.py?line=98'>99</a>\u001b[0m out_patches_column \u001b[39m=\u001b[39m F\u001b[39m.\u001b[39membedding(indices\u001b[39m.\u001b[39msqueeze(\u001b[39m2\u001b[39m),\n\u001b[1;32m    <a href='file:///Users/benfei/Documents/DropTheGAN/gpnn.py?line=99'>100</a>\u001b[0m                                  value_patches_column\u001b[39m.\u001b[39msqueeze(\u001b[39m0\u001b[39m))\n",
      "File \u001b[0;32m~/Documents/DropTheGAN/gpnn.py:269\u001b[0m, in \u001b[0;36mfind_normalized_nearest_neighbors\u001b[0;34m(queries, keys, alpha, max_memory_usage)\u001b[0m\n\u001b[1;32m    <a href='file:///Users/benfei/Documents/DropTheGAN/gpnn.py?line=266'>267</a>\u001b[0m \u001b[39melse\u001b[39;00m:\n\u001b[1;32m    <a href='file:///Users/benfei/Documents/DropTheGAN/gpnn.py?line=267'>268</a>\u001b[0m     normalizer \u001b[39m=\u001b[39m \u001b[39mNone\u001b[39;00m\n\u001b[0;32m--> <a href='file:///Users/benfei/Documents/DropTheGAN/gpnn.py?line=268'>269</a>\u001b[0m \u001b[39mreturn\u001b[39;00m find_weighted_nearest_neighbors(queries, keys, normalizer,\n\u001b[1;32m    <a href='file:///Users/benfei/Documents/DropTheGAN/gpnn.py?line=269'>270</a>\u001b[0m                                        max_memory_usage)\n",
      "File \u001b[0;32m~/Documents/DropTheGAN/gpnn.py:236\u001b[0m, in \u001b[0;36mfind_weighted_nearest_neighbors\u001b[0;34m(queries, keys, weights, max_memory_usage)\u001b[0m\n\u001b[1;32m    <a href='file:///Users/benfei/Documents/DropTheGAN/gpnn.py?line=233'>234</a>\u001b[0m indices \u001b[39m=\u001b[39m []\n\u001b[1;32m    <a href='file:///Users/benfei/Documents/DropTheGAN/gpnn.py?line=234'>235</a>\u001b[0m \u001b[39mfor\u001b[39;00m start \u001b[39min\u001b[39;00m \u001b[39mrange\u001b[39m(\u001b[39m0\u001b[39m, num_queries, tile_height):\n\u001b[0;32m--> <a href='file:///Users/benfei/Documents/DropTheGAN/gpnn.py?line=235'>236</a>\u001b[0m     value, idx \u001b[39m=\u001b[39m _find_weighted_nearest_neighbors(\n\u001b[1;32m    <a href='file:///Users/benfei/Documents/DropTheGAN/gpnn.py?line=236'>237</a>\u001b[0m         queries[:, start:start \u001b[39m+\u001b[39;49m tile_height], keys,\n\u001b[1;32m    <a href='file:///Users/benfei/Documents/DropTheGAN/gpnn.py?line=237'>238</a>\u001b[0m         _slice_weights(weights, start, start \u001b[39m+\u001b[39;49m tile_height))\n\u001b[1;32m    <a href='file:///Users/benfei/Documents/DropTheGAN/gpnn.py?line=238'>239</a>\u001b[0m     values\u001b[39m.\u001b[39mappend(value)\n\u001b[1;32m    <a href='file:///Users/benfei/Documents/DropTheGAN/gpnn.py?line=239'>240</a>\u001b[0m     indices\u001b[39m.\u001b[39mappend(idx)\n",
      "File \u001b[0;32m~/Documents/DropTheGAN/gpnn.py:212\u001b[0m, in \u001b[0;36m_find_weighted_nearest_neighbors\u001b[0;34m(queries, keys, weights)\u001b[0m\n\u001b[1;32m    <a href='file:///Users/benfei/Documents/DropTheGAN/gpnn.py?line=206'>207</a>\u001b[0m \u001b[39mdef\u001b[39;00m \u001b[39m_find_weighted_nearest_neighbors\u001b[39m(\n\u001b[1;32m    <a href='file:///Users/benfei/Documents/DropTheGAN/gpnn.py?line=207'>208</a>\u001b[0m     queries: torch\u001b[39m.\u001b[39mTensor,\n\u001b[1;32m    <a href='file:///Users/benfei/Documents/DropTheGAN/gpnn.py?line=208'>209</a>\u001b[0m     keys: torch\u001b[39m.\u001b[39mTensor,\n\u001b[1;32m    <a href='file:///Users/benfei/Documents/DropTheGAN/gpnn.py?line=209'>210</a>\u001b[0m     weights: Optional[torch\u001b[39m.\u001b[39mTensor] \u001b[39m=\u001b[39m \u001b[39mNone\u001b[39;00m\n\u001b[1;32m    <a href='file:///Users/benfei/Documents/DropTheGAN/gpnn.py?line=210'>211</a>\u001b[0m ) \u001b[39m-\u001b[39m\u001b[39m>\u001b[39m Tuple[torch\u001b[39m.\u001b[39mTensor, torch\u001b[39m.\u001b[39mTensor]:\n\u001b[0;32m--> <a href='file:///Users/benfei/Documents/DropTheGAN/gpnn.py?line=211'>212</a>\u001b[0m     dists \u001b[39m=\u001b[39m _compute_dist_matrix(queries, keys)\n\u001b[1;32m    <a href='file:///Users/benfei/Documents/DropTheGAN/gpnn.py?line=212'>213</a>\u001b[0m     \u001b[39mif\u001b[39;00m weights \u001b[39mis\u001b[39;00m \u001b[39mnot\u001b[39;00m \u001b[39mNone\u001b[39;00m:\n\u001b[1;32m    <a href='file:///Users/benfei/Documents/DropTheGAN/gpnn.py?line=213'>214</a>\u001b[0m         dists \u001b[39m*\u001b[39m\u001b[39m=\u001b[39m weights\n",
      "File \u001b[0;32m~/Documents/DropTheGAN/gpnn.py:141\u001b[0m, in \u001b[0;36m_compute_dist_matrix\u001b[0;34m(queries, keys)\u001b[0m\n\u001b[1;32m    <a href='file:///Users/benfei/Documents/DropTheGAN/gpnn.py?line=137'>138</a>\u001b[0m \u001b[39mdef\u001b[39;00m \u001b[39m_compute_dist_matrix\u001b[39m(queries: torch\u001b[39m.\u001b[39mTensor,\n\u001b[1;32m    <a href='file:///Users/benfei/Documents/DropTheGAN/gpnn.py?line=138'>139</a>\u001b[0m                          keys: torch\u001b[39m.\u001b[39mTensor) \u001b[39m-\u001b[39m\u001b[39m>\u001b[39m torch\u001b[39m.\u001b[39mTensor:\n\u001b[1;32m    <a href='file:///Users/benfei/Documents/DropTheGAN/gpnn.py?line=139'>140</a>\u001b[0m     \u001b[39m\"\"\"Computes a matrix of MSE between each query and each key.\"\"\"\u001b[39;00m\n\u001b[0;32m--> <a href='file:///Users/benfei/Documents/DropTheGAN/gpnn.py?line=140'>141</a>\u001b[0m     \u001b[39mreturn\u001b[39;00m torch\u001b[39m.\u001b[39;49mcdist(queries, keys, p\u001b[39m=\u001b[39;49m\u001b[39m2\u001b[39;49m)\u001b[39m.\u001b[39mpow(\u001b[39m2\u001b[39m) \u001b[39m/\u001b[39m queries\u001b[39m.\u001b[39mshape[\u001b[39m-\u001b[39m\u001b[39m1\u001b[39m]\n",
      "File \u001b[0;32m/opt/homebrew/Caskroom/mambaforge/base/envs/dropthegan/lib/python3.10/site-packages/torch/functional.py:1278\u001b[0m, in \u001b[0;36mcdist\u001b[0;34m(x1, x2, p, compute_mode)\u001b[0m\n\u001b[1;32m   <a href='file:///opt/homebrew/Caskroom/mambaforge/base/envs/dropthegan/lib/python3.10/site-packages/torch/functional.py?line=1274'>1275</a>\u001b[0m     \u001b[39mreturn\u001b[39;00m handle_torch_function(\n\u001b[1;32m   <a href='file:///opt/homebrew/Caskroom/mambaforge/base/envs/dropthegan/lib/python3.10/site-packages/torch/functional.py?line=1275'>1276</a>\u001b[0m         cdist, (x1, x2), x1, x2, p\u001b[39m=\u001b[39mp, compute_mode\u001b[39m=\u001b[39mcompute_mode)\n\u001b[1;32m   <a href='file:///opt/homebrew/Caskroom/mambaforge/base/envs/dropthegan/lib/python3.10/site-packages/torch/functional.py?line=1276'>1277</a>\u001b[0m \u001b[39mif\u001b[39;00m compute_mode \u001b[39m==\u001b[39m \u001b[39m'\u001b[39m\u001b[39muse_mm_for_euclid_dist_if_necessary\u001b[39m\u001b[39m'\u001b[39m:\n\u001b[0;32m-> <a href='file:///opt/homebrew/Caskroom/mambaforge/base/envs/dropthegan/lib/python3.10/site-packages/torch/functional.py?line=1277'>1278</a>\u001b[0m     \u001b[39mreturn\u001b[39;00m _VF\u001b[39m.\u001b[39;49mcdist(x1, x2, p, \u001b[39mNone\u001b[39;49;00m)  \u001b[39m# type: ignore[attr-defined]\u001b[39;00m\n\u001b[1;32m   <a href='file:///opt/homebrew/Caskroom/mambaforge/base/envs/dropthegan/lib/python3.10/site-packages/torch/functional.py?line=1278'>1279</a>\u001b[0m \u001b[39melif\u001b[39;00m compute_mode \u001b[39m==\u001b[39m \u001b[39m'\u001b[39m\u001b[39muse_mm_for_euclid_dist\u001b[39m\u001b[39m'\u001b[39m:\n\u001b[1;32m   <a href='file:///opt/homebrew/Caskroom/mambaforge/base/envs/dropthegan/lib/python3.10/site-packages/torch/functional.py?line=1279'>1280</a>\u001b[0m     \u001b[39mreturn\u001b[39;00m _VF\u001b[39m.\u001b[39mcdist(x1, x2, p, \u001b[39m1\u001b[39m)  \u001b[39m# type: ignore[attr-defined]\u001b[39;00m\n",
      "\u001b[0;31mKeyboardInterrupt\u001b[0m: "
     ]
    }
   ],
   "source": [
    "balloons_in_blue = utils.imread('balloons_in_blue.png')\n",
    "color = torch.tensor([0, 1.0, 1.0]).reshape(3, 1, 1)\n",
    "mask = ((balloons_in_blue == color).to(torch.int).sum(dim=0, keepdim=True) == 3).to(balloons_in_blue).repeat((3, 1, 1))\n",
    "image_utils.imshow(balloons_in_blue)\n",
    "image_utils.imshow(mask)\n",
    "\n",
    "inpainted = conditional_inpainting(\n",
    "    balloons_in_blue,\n",
    "    1 - mask[:1],\n",
    "    num_levels=5,\n",
    ")\n",
    "image_utils.imshow(inpainted)"
   ]
  },
  {
   "cell_type": "code",
   "execution_count": 114,
   "metadata": {},
   "outputs": [
    {
     "data": {
      "text/plain": [
       "torch.Size([1, 1, 220, 220])"
      ]
     },
     "execution_count": 114,
     "metadata": {},
     "output_type": "execute_result"
    }
   ],
   "source": [
    "mask[:1].unsqueeze(0).shape"
   ]
  },
  {
   "cell_type": "code",
   "execution_count": null,
   "metadata": {},
   "outputs": [],
   "source": []
  },
  {
   "cell_type": "code",
   "execution_count": 94,
   "metadata": {},
   "outputs": [],
   "source": [
    "def _get_retargeting_step_size(retargeting_ratio: Tuple[float, float],\n",
    "                               gradual: bool) -> Tuple[int, Tuple[float, float]]:\n",
    "    if gradual:\n",
    "        raise ValueError('gradual=True is not supported.')\n",
    "        # step_size = [0.9, 0.9]\n",
    "        # if retargeting_ratio[0] >= 1:\n",
    "        #     step_size[0] = 1.1\n",
    "        # if retargeting_ratio[1] >= 1:\n",
    "        #     step_size[0] = 1.1\n",
    "        # num_steps = math.floor(max(math.log(retargeting_ratio[0])/math.log(step_size[0]), \n",
    "        #                         math.log(retargeting_ratio[1])/math.log(step_size[1])))\n",
    "        # step_size[0] = 10**(math.log10(retargeting_ratio[0])/num_steps)\n",
    "        # step_size[1] = 10**(math.log10(retargeting_ratio[1])/num_steps)\n",
    "    else:\n",
    "        num_steps = 1\n",
    "        step_size = retargeting_ratio\n",
    "    return num_steps, tuple(step_size)\n",
    "\n",
    "def _get_num_levels_1d(current_size, min_axis_size_coarsest, downscale_ratio):\n",
    "    return math.floor(math.log(min_axis_size_coarsest / current_size) / math.log(downscale_ratio))\n",
    "\n",
    "def _get_num_levels(current_size, min_axis_size_coarsest, downscale_ratio):\n",
    "    return min(\n",
    "        _get_num_levels_1d(current_size_1d, min_axis_size_coarsest, downscale_ratio)\n",
    "        for current_size_1d in current_size\n",
    "    )\n",
    "\n",
    "def retargeting(image: torch.Tensor, retargeting_ratio: Tuple[float, float],\n",
    "                alpha: float = 1e-3,  patch_size: int = 7, reduce: str = 'weighted_mean',\n",
    "                downscale_ratio: float = 0.8, max_num_levels: int = 9, gradual: bool = False,\n",
    "                min_axis_size_coarsest: int = 21):\n",
    "    pyramid = gpnn.make_pyramid(image, max_num_levels, downscale_ratio)\n",
    "    num_steps, step_size = _get_retargeting_step_size(retargeting_ratio, gradual)\n",
    "    generated = image\n",
    "    for _ in range(num_steps):\n",
    "        retargeted_generated = resize_right.resize(generated, step_size)\n",
    "        # current_num_levels = max_num_levels\n",
    "        # retargeted_generated = generated\n",
    "        image_utils.imshow(retargeted_generated)\n",
    "        current_num_levels = _get_num_levels(retargeted_generated.shape[-2:], min_axis_size_coarsest, downscale_ratio)\n",
    "        # print(f'Num levels: {current_num_levels}')\n",
    "        if current_num_levels > max_num_levels:\n",
    "            raise RuntimeError('max_num_levels is smaller than one of the requested num_levels. '\n",
    "                               'Please increase max_num_levels or min_axis_size_coarsest.')\n",
    "        retargeted_pyramid = gpnn.make_pyramid(retargeted_generated, current_num_levels, downscale_ratio)\n",
    "        retargeted_pyramid_shape = [level.shape for level in retargeted_pyramid]\n",
    "        # print(step_size)\n",
    "        print(retargeted_pyramid_shape)\n",
    "        print([x.shape for x in pyramid[:current_num_levels + 1]])\n",
    "        initial_quess = retargeted_pyramid[-1]\n",
    "        generated = gpnn.gpnn(pyramid[:current_num_levels + 1], initial_quess, output_pyramid_shape=retargeted_pyramid_shape,\n",
    "                              alpha=alpha, downscale_ratio=downscale_ratio, patch_size=patch_size,\n",
    "                              reduce=reduce, num_iters_in_coarsest_level=10)\n",
    "    return generated"
   ]
  },
  {
   "cell_type": "code",
   "execution_count": 97,
   "metadata": {},
   "outputs": [
    {
     "data": {
      "application/vnd.jupyter.widget-view+json": {
       "model_id": "7f6af9f7dc324f92ad6c2b3f30f169df",
       "version_major": 2,
       "version_minor": 0
      },
      "text/plain": [
       "Image(value=b'\\x89PNG\\r\\n\\x1a\\n\\x00\\x00\\x00\\rIHDR\\x00\\x00\\x00\\xba\\x00\\x00\\x00b\\x08\\x02\\x00\\x00\\x00h\\x01^\\xe4\\x…"
      ]
     },
     "metadata": {},
     "output_type": "display_data"
    },
    {
     "name": "stdout",
     "output_type": "stream",
     "text": [
      "[torch.Size([1, 3, 98, 186]), torch.Size([1, 3, 74, 140]), torch.Size([1, 3, 56, 105]), torch.Size([1, 3, 42, 79]), torch.Size([1, 3, 32, 59])]\n",
      "[torch.Size([1, 3, 140, 186]), torch.Size([1, 3, 105, 140]), torch.Size([1, 3, 79, 105]), torch.Size([1, 3, 60, 79]), torch.Size([1, 3, 45, 59])]\n",
      "torch.Size([1, 3, 32, 59])\n"
     ]
    },
    {
     "data": {
      "application/vnd.jupyter.widget-view+json": {
       "model_id": "160e52b7c7454155968e45f7811671e8",
       "version_major": 2,
       "version_minor": 0
      },
      "text/plain": [
       "Image(value=b'\\x89PNG\\r\\n\\x1a\\n\\x00\\x00\\x00\\rIHDR\\x00\\x00\\x00;\\x00\\x00\\x00 \\x08\\x02\\x00\\x00\\x00#V\\x97\\xbc\\x00\\…"
      ]
     },
     "metadata": {},
     "output_type": "display_data"
    },
    {
     "name": "stdout",
     "output_type": "stream",
     "text": [
      "level: 4\n",
      "corasest iteration: 0\n",
      "corasest iteration: 1\n",
      "corasest iteration: 2\n",
      "corasest iteration: 3\n",
      "corasest iteration: 4\n",
      "corasest iteration: 5\n",
      "corasest iteration: 6\n",
      "corasest iteration: 7\n",
      "corasest iteration: 8\n",
      "corasest iteration: 9\n",
      "torch.Size([1, 3, 32, 59])\n"
     ]
    },
    {
     "data": {
      "application/vnd.jupyter.widget-view+json": {
       "model_id": "86002693586349d8afc863372661054a",
       "version_major": 2,
       "version_minor": 0
      },
      "text/plain": [
       "Image(value=b'\\x89PNG\\r\\n\\x1a\\n\\x00\\x00\\x00\\rIHDR\\x00\\x00\\x00;\\x00\\x00\\x00 \\x08\\x02\\x00\\x00\\x00#V\\x97\\xbc\\x00\\…"
      ]
     },
     "metadata": {},
     "output_type": "display_data"
    },
    {
     "name": "stdout",
     "output_type": "stream",
     "text": [
      "level: 3\n",
      "iteration: 0\n",
      "iteration: 1\n",
      "iteration: 2\n",
      "iteration: 3\n",
      "iteration: 4\n",
      "iteration: 5\n",
      "iteration: 6\n",
      "iteration: 7\n",
      "iteration: 8\n",
      "iteration: 9\n",
      "torch.Size([1, 3, 42, 79])\n"
     ]
    },
    {
     "data": {
      "application/vnd.jupyter.widget-view+json": {
       "model_id": "e188f2ff8e4c459c8622cc1fb3cbe50a",
       "version_major": 2,
       "version_minor": 0
      },
      "text/plain": [
       "Image(value=b'\\x89PNG\\r\\n\\x1a\\n\\x00\\x00\\x00\\rIHDR\\x00\\x00\\x00O\\x00\\x00\\x00*\\x08\\x02\\x00\\x00\\x00}o\\x918\\x00\\x00…"
      ]
     },
     "metadata": {},
     "output_type": "display_data"
    },
    {
     "name": "stdout",
     "output_type": "stream",
     "text": [
      "level: 2\n",
      "iteration: 0\n",
      "iteration: 1\n",
      "iteration: 2\n",
      "iteration: 3\n",
      "iteration: 4\n",
      "iteration: 5\n",
      "iteration: 6\n",
      "iteration: 7\n",
      "iteration: 8\n",
      "iteration: 9\n",
      "torch.Size([1, 3, 56, 105])\n"
     ]
    },
    {
     "data": {
      "application/vnd.jupyter.widget-view+json": {
       "model_id": "44da8d0b7a0647319d78d568ebf06098",
       "version_major": 2,
       "version_minor": 0
      },
      "text/plain": [
       "Image(value=b'\\x89PNG\\r\\n\\x1a\\n\\x00\\x00\\x00\\rIHDR\\x00\\x00\\x00i\\x00\\x00\\x008\\x08\\x02\\x00\\x00\\x00q2A?\\x00\\x00%VI…"
      ]
     },
     "metadata": {},
     "output_type": "display_data"
    },
    {
     "name": "stdout",
     "output_type": "stream",
     "text": [
      "level: 1\n",
      "iteration: 0\n",
      "iteration: 1\n",
      "iteration: 2\n",
      "iteration: 3\n",
      "iteration: 4\n",
      "iteration: 5\n",
      "iteration: 6\n",
      "iteration: 7\n",
      "iteration: 8\n",
      "iteration: 9\n",
      "torch.Size([1, 3, 74, 140])\n"
     ]
    },
    {
     "data": {
      "application/vnd.jupyter.widget-view+json": {
       "model_id": "3a328afdc3f34048bef24cd57beecadd",
       "version_major": 2,
       "version_minor": 0
      },
      "text/plain": [
       "Image(value=b'\\x89PNG\\r\\n\\x1a\\n\\x00\\x00\\x00\\rIHDR\\x00\\x00\\x00\\x8c\\x00\\x00\\x00J\\x08\\x02\\x00\\x00\\x00\\xe6\\x13+\\xc…"
      ]
     },
     "metadata": {},
     "output_type": "display_data"
    },
    {
     "name": "stdout",
     "output_type": "stream",
     "text": [
      "level: 0\n",
      "iteration: 0\n",
      "iteration: 1\n",
      "iteration: 2\n",
      "iteration: 3\n",
      "iteration: 4\n",
      "iteration: 5\n",
      "iteration: 6\n",
      "iteration: 7\n",
      "iteration: 8\n",
      "iteration: 9\n",
      "torch.Size([1, 3, 98, 186])\n"
     ]
    },
    {
     "data": {
      "application/vnd.jupyter.widget-view+json": {
       "model_id": "b81854a8c032467ab11f4a5451f1f67b",
       "version_major": 2,
       "version_minor": 0
      },
      "text/plain": [
       "Image(value=b'\\x89PNG\\r\\n\\x1a\\n\\x00\\x00\\x00\\rIHDR\\x00\\x00\\x00\\xba\\x00\\x00\\x00b\\x08\\x02\\x00\\x00\\x00h\\x01^\\xe4\\x…"
      ]
     },
     "metadata": {},
     "output_type": "display_data"
    }
   ],
   "source": [
    "out = retargeting(small_image.unsqueeze(0),\n",
    "                  alpha=1e-2,\n",
    "                  retargeting_ratio=(0.7, 1.0),\n",
    "                  downscale_ratio=0.75,\n",
    "                  max_num_levels=8,\n",
    "                  min_axis_size_coarsest=28)"
   ]
  },
  {
   "cell_type": "code",
   "execution_count": null,
   "metadata": {},
   "outputs": [],
   "source": []
  },
  {
   "cell_type": "code",
   "execution_count": null,
   "metadata": {},
   "outputs": [],
   "source": [
    "out = gpnn.gpnn(pyramid, torch.rand_like(pyramid[-1]), patch_size=3)"
   ]
  },
  {
   "cell_type": "code",
   "execution_count": 6,
   "metadata": {},
   "outputs": [],
   "source": []
  },
  {
   "cell_type": "code",
   "execution_count": 14,
   "metadata": {},
   "outputs": [
    {
     "data": {
      "application/vnd.jupyter.widget-view+json": {
       "model_id": "d073abc8903c4a48a971f61087bff272",
       "version_major": 2,
       "version_minor": 0
      },
      "text/plain": [
       "Image(value=b'\\x89PNG\\r\\n\\x1a\\n\\x00\\x00\\x00\\rIHDR\\x00\\x00\\x00\\xf8\\x00\\x00\\x00\\xba\\x08\\x02\\x00\\x00\\x00\\x0c#\\x17…"
      ]
     },
     "metadata": {},
     "output_type": "display_data"
    }
   ],
   "source": []
  },
  {
   "cell_type": "code",
   "execution_count": 10,
   "metadata": {},
   "outputs": [],
   "source": []
  },
  {
   "cell_type": "code",
   "execution_count": 92,
   "metadata": {},
   "outputs": [
    {
     "name": "stdout",
     "output_type": "stream",
     "text": [
      "torch.Size([1, 3, 15, 19])\n"
     ]
    },
    {
     "data": {
      "application/vnd.jupyter.widget-view+json": {
       "model_id": "d04f9fddca454eab8fc0165b8331766b",
       "version_major": 2,
       "version_minor": 0
      },
      "text/plain": [
       "Image(value=b'\\x89PNG\\r\\n\\x1a\\n\\x00\\x00\\x00\\rIHDR\\x00\\x00\\x00\\x13\\x00\\x00\\x00\\x0f\\x08\\x02\\x00\\x00\\x00\\x89&c{\\x…"
      ]
     },
     "metadata": {},
     "output_type": "display_data"
    },
    {
     "name": "stdout",
     "output_type": "stream",
     "text": [
      "level: 8\n",
      "corasest iteration: 0\n",
      "torch.Size([1, 3, 15, 19])\n"
     ]
    },
    {
     "data": {
      "application/vnd.jupyter.widget-view+json": {
       "model_id": "5cfa8744a80a480ebf4862e8bfa60e0b",
       "version_major": 2,
       "version_minor": 0
      },
      "text/plain": [
       "Image(value=b'\\x89PNG\\r\\n\\x1a\\n\\x00\\x00\\x00\\rIHDR\\x00\\x00\\x00\\x13\\x00\\x00\\x00\\x0f\\x08\\x02\\x00\\x00\\x00\\x89&c{\\x…"
      ]
     },
     "metadata": {},
     "output_type": "display_data"
    },
    {
     "name": "stdout",
     "output_type": "stream",
     "text": [
      "level: 7\n",
      "iteration: 0\n",
      "iteration: 1\n",
      "iteration: 2\n",
      "iteration: 3\n",
      "iteration: 4\n",
      "iteration: 5\n",
      "iteration: 6\n",
      "iteration: 7\n",
      "iteration: 8\n",
      "iteration: 9\n",
      "torch.Size([1, 3, 19, 25])\n"
     ]
    },
    {
     "data": {
      "application/vnd.jupyter.widget-view+json": {
       "model_id": "9079d101aebe4541a6a9d3e8dbccfeeb",
       "version_major": 2,
       "version_minor": 0
      },
      "text/plain": [
       "Image(value=b'\\x89PNG\\r\\n\\x1a\\n\\x00\\x00\\x00\\rIHDR\\x00\\x00\\x00\\x19\\x00\\x00\\x00\\x13\\x08\\x02\\x00\\x00\\x00\\xea\\x101…"
      ]
     },
     "metadata": {},
     "output_type": "display_data"
    },
    {
     "name": "stdout",
     "output_type": "stream",
     "text": [
      "level: 6\n",
      "iteration: 0\n",
      "iteration: 1\n",
      "iteration: 2\n",
      "iteration: 3\n",
      "iteration: 4\n",
      "iteration: 5\n",
      "iteration: 6\n",
      "iteration: 7\n",
      "iteration: 8\n",
      "iteration: 9\n",
      "torch.Size([1, 3, 25, 34])\n"
     ]
    },
    {
     "data": {
      "application/vnd.jupyter.widget-view+json": {
       "model_id": "1bf5fd8a78064f308e88d3d511b62839",
       "version_major": 2,
       "version_minor": 0
      },
      "text/plain": [
       "Image(value=b'\\x89PNG\\r\\n\\x1a\\n\\x00\\x00\\x00\\rIHDR\\x00\\x00\\x00\"\\x00\\x00\\x00\\x19\\x08\\x02\\x00\\x00\\x00\\xdb\\x98k\\xf…"
      ]
     },
     "metadata": {},
     "output_type": "display_data"
    },
    {
     "name": "stdout",
     "output_type": "stream",
     "text": [
      "level: 5\n",
      "iteration: 0\n",
      "iteration: 1\n",
      "iteration: 2\n",
      "iteration: 3\n",
      "iteration: 4\n",
      "iteration: 5\n",
      "iteration: 6\n",
      "iteration: 7\n",
      "iteration: 8\n",
      "iteration: 9\n",
      "torch.Size([1, 3, 34, 45])\n"
     ]
    },
    {
     "data": {
      "application/vnd.jupyter.widget-view+json": {
       "model_id": "ccdaf28f9737490b9321e415dc7ab2e2",
       "version_major": 2,
       "version_minor": 0
      },
      "text/plain": [
       "Image(value=b'\\x89PNG\\r\\n\\x1a\\n\\x00\\x00\\x00\\rIHDR\\x00\\x00\\x00-\\x00\\x00\\x00\"\\x08\\x02\\x00\\x00\\x00D.\\xc7\\x18\\x00\\…"
      ]
     },
     "metadata": {},
     "output_type": "display_data"
    },
    {
     "name": "stdout",
     "output_type": "stream",
     "text": [
      "level: 4\n",
      "iteration: 0\n",
      "iteration: 1\n",
      "iteration: 2\n",
      "iteration: 3\n",
      "iteration: 4\n",
      "iteration: 5\n",
      "iteration: 6\n",
      "iteration: 7\n",
      "iteration: 8\n",
      "iteration: 9\n",
      "torch.Size([1, 3, 45, 59])\n"
     ]
    },
    {
     "data": {
      "application/vnd.jupyter.widget-view+json": {
       "model_id": "64102cf3530d4eb5bf40f3aefd320f0c",
       "version_major": 2,
       "version_minor": 0
      },
      "text/plain": [
       "Image(value=b'\\x89PNG\\r\\n\\x1a\\n\\x00\\x00\\x00\\rIHDR\\x00\\x00\\x00;\\x00\\x00\\x00-\\x08\\x02\\x00\\x00\\x00\\x9f\\xc8\\x84b\\x…"
      ]
     },
     "metadata": {},
     "output_type": "display_data"
    },
    {
     "name": "stdout",
     "output_type": "stream",
     "text": [
      "level: 3\n",
      "iteration: 0\n",
      "iteration: 1\n",
      "iteration: 2\n",
      "iteration: 3\n",
      "iteration: 4\n",
      "iteration: 5\n",
      "iteration: 6\n",
      "iteration: 7\n",
      "iteration: 8\n",
      "iteration: 9\n",
      "torch.Size([1, 3, 60, 79])\n"
     ]
    },
    {
     "data": {
      "application/vnd.jupyter.widget-view+json": {
       "model_id": "0f2f2de928814a3fa8067f3694431cc4",
       "version_major": 2,
       "version_minor": 0
      },
      "text/plain": [
       "Image(value=b'\\x89PNG\\r\\n\\x1a\\n\\x00\\x00\\x00\\rIHDR\\x00\\x00\\x00O\\x00\\x00\\x00<\\x08\\x02\\x00\\x00\\x00\\xa8\\xe0p\\xbe\\x…"
      ]
     },
     "metadata": {},
     "output_type": "display_data"
    },
    {
     "name": "stdout",
     "output_type": "stream",
     "text": [
      "level: 2\n",
      "iteration: 0\n",
      "iteration: 1\n",
      "iteration: 2\n",
      "iteration: 3\n",
      "iteration: 4\n",
      "iteration: 5\n",
      "iteration: 6\n",
      "iteration: 7\n",
      "iteration: 8\n",
      "iteration: 9\n",
      "torch.Size([1, 3, 79, 105])\n"
     ]
    },
    {
     "data": {
      "application/vnd.jupyter.widget-view+json": {
       "model_id": "7477f2280eef44708cc736575b3740ca",
       "version_major": 2,
       "version_minor": 0
      },
      "text/plain": [
       "Image(value=b'\\x89PNG\\r\\n\\x1a\\n\\x00\\x00\\x00\\rIHDR\\x00\\x00\\x00i\\x00\\x00\\x00O\\x08\\x02\\x00\\x00\\x00g\\x15|F\\x00\\x00…"
      ]
     },
     "metadata": {},
     "output_type": "display_data"
    },
    {
     "name": "stdout",
     "output_type": "stream",
     "text": [
      "level: 1\n",
      "iteration: 0\n",
      "iteration: 1\n",
      "iteration: 2\n",
      "iteration: 3\n",
      "iteration: 4\n",
      "iteration: 5\n",
      "iteration: 6\n"
     ]
    },
    {
     "ename": "KeyboardInterrupt",
     "evalue": "",
     "output_type": "error",
     "traceback": [
      "\u001b[0;31m---------------------------------------------------------------------------\u001b[0m",
      "\u001b[0;31mKeyboardInterrupt\u001b[0m                         Traceback (most recent call last)",
      "\u001b[1;32m/Users/benfei/Documents/DropTheGAN/integration_test.ipynb Cell 13'\u001b[0m in \u001b[0;36m<cell line: 1>\u001b[0;34m()\u001b[0m\n\u001b[0;32m----> <a href='vscode-notebook-cell:/Users/benfei/Documents/DropTheGAN/integration_test.ipynb#ch0000026?line=0'>1</a>\u001b[0m out \u001b[39m=\u001b[39m image_generation(\n\u001b[1;32m      <a href='vscode-notebook-cell:/Users/benfei/Documents/DropTheGAN/integration_test.ipynb#ch0000026?line=1'>2</a>\u001b[0m     small_image\u001b[39m.\u001b[39;49munsqueeze(\u001b[39m0\u001b[39;49m),\n\u001b[1;32m      <a href='vscode-notebook-cell:/Users/benfei/Documents/DropTheGAN/integration_test.ipynb#ch0000026?line=2'>3</a>\u001b[0m     num_levels\u001b[39m=\u001b[39;49m\u001b[39m8\u001b[39;49m, \n\u001b[1;32m      <a href='vscode-notebook-cell:/Users/benfei/Documents/DropTheGAN/integration_test.ipynb#ch0000026?line=3'>4</a>\u001b[0m     alpha\u001b[39m=\u001b[39;49m\u001b[39m10\u001b[39;49m,\n\u001b[1;32m      <a href='vscode-notebook-cell:/Users/benfei/Documents/DropTheGAN/integration_test.ipynb#ch0000026?line=4'>5</a>\u001b[0m     noise_std\u001b[39m=\u001b[39;49m\u001b[39m0.75\u001b[39;49m,\n\u001b[1;32m      <a href='vscode-notebook-cell:/Users/benfei/Documents/DropTheGAN/integration_test.ipynb#ch0000026?line=5'>6</a>\u001b[0m )\n",
      "\u001b[1;32m/Users/benfei/Documents/DropTheGAN/integration_test.ipynb Cell 5'\u001b[0m in \u001b[0;36mimage_generation\u001b[0;34m(image, noise_std, alpha, patch_size, reduce, downscale_ratio, num_levels)\u001b[0m\n\u001b[1;32m      <a href='vscode-notebook-cell:/Users/benfei/Documents/DropTheGAN/integration_test.ipynb#ch0000010?line=3'>4</a>\u001b[0m pyramid \u001b[39m=\u001b[39m gpnn\u001b[39m.\u001b[39mmake_pyramid(image, num_levels, downscale_ratio)\n\u001b[1;32m      <a href='vscode-notebook-cell:/Users/benfei/Documents/DropTheGAN/integration_test.ipynb#ch0000010?line=4'>5</a>\u001b[0m initial_guess \u001b[39m=\u001b[39m pyramid[\u001b[39m-\u001b[39m\u001b[39m1\u001b[39m] \u001b[39m+\u001b[39m noise_std \u001b[39m*\u001b[39m torch\u001b[39m.\u001b[39mrandn_like(pyramid[\u001b[39m-\u001b[39m\u001b[39m1\u001b[39m])\n\u001b[0;32m----> <a href='vscode-notebook-cell:/Users/benfei/Documents/DropTheGAN/integration_test.ipynb#ch0000010?line=5'>6</a>\u001b[0m \u001b[39mreturn\u001b[39;00m gpnn\u001b[39m.\u001b[39;49mgpnn(pyramid, initial_guess, alpha\u001b[39m=\u001b[39;49malpha, downscale_ratio\u001b[39m=\u001b[39;49mdownscale_ratio,\n\u001b[1;32m      <a href='vscode-notebook-cell:/Users/benfei/Documents/DropTheGAN/integration_test.ipynb#ch0000010?line=6'>7</a>\u001b[0m                  patch_size\u001b[39m=\u001b[39;49mpatch_size, reduce\u001b[39m=\u001b[39;49mreduce)\n",
      "File \u001b[0;32m~/Documents/DropTheGAN/gpnn.py:52\u001b[0m, in \u001b[0;36mgpnn\u001b[0;34m(pyramid, initial_guess, downscale_ratio, patch_size, alpha, output_pyramid_shape, mask_pyramid, num_iters_in_level, num_iters_in_coarsest_level, reduce)\u001b[0m\n\u001b[1;32m     <a href='file:///Users/benfei/Documents/DropTheGAN/gpnn.py?line=49'>50</a>\u001b[0m     \u001b[39mfor\u001b[39;00m i \u001b[39min\u001b[39;00m \u001b[39mrange\u001b[39m(num_iters_in_level):\n\u001b[1;32m     <a href='file:///Users/benfei/Documents/DropTheGAN/gpnn.py?line=50'>51</a>\u001b[0m         \u001b[39mprint\u001b[39m(\u001b[39mf\u001b[39m\u001b[39m'\u001b[39m\u001b[39miteration: \u001b[39m\u001b[39m{\u001b[39;00mi\u001b[39m}\u001b[39;00m\u001b[39m'\u001b[39m)\n\u001b[0;32m---> <a href='file:///Users/benfei/Documents/DropTheGAN/gpnn.py?line=51'>52</a>\u001b[0m         generated \u001b[39m=\u001b[39m pnn(generated,\n\u001b[1;32m     <a href='file:///Users/benfei/Documents/DropTheGAN/gpnn.py?line=52'>53</a>\u001b[0m                         key\u001b[39m=\u001b[39;49mblurred,\n\u001b[1;32m     <a href='file:///Users/benfei/Documents/DropTheGAN/gpnn.py?line=53'>54</a>\u001b[0m                         value\u001b[39m=\u001b[39;49mpyramid[level],\n\u001b[1;32m     <a href='file:///Users/benfei/Documents/DropTheGAN/gpnn.py?line=54'>55</a>\u001b[0m                         mask\u001b[39m=\u001b[39;49mmask_pyramid[level],\n\u001b[1;32m     <a href='file:///Users/benfei/Documents/DropTheGAN/gpnn.py?line=55'>56</a>\u001b[0m                         patch_size\u001b[39m=\u001b[39;49mpatch_size,\n\u001b[1;32m     <a href='file:///Users/benfei/Documents/DropTheGAN/gpnn.py?line=56'>57</a>\u001b[0m                         alpha\u001b[39m=\u001b[39;49malpha,\n\u001b[1;32m     <a href='file:///Users/benfei/Documents/DropTheGAN/gpnn.py?line=57'>58</a>\u001b[0m                         reduce\u001b[39m=\u001b[39;49mreduce)\n\u001b[1;32m     <a href='file:///Users/benfei/Documents/DropTheGAN/gpnn.py?line=58'>59</a>\u001b[0m \u001b[39mprint\u001b[39m(generated\u001b[39m.\u001b[39mshape)\n\u001b[1;32m     <a href='file:///Users/benfei/Documents/DropTheGAN/gpnn.py?line=59'>60</a>\u001b[0m image_utils\u001b[39m.\u001b[39mimshow(generated)\n",
      "File \u001b[0;32m~/Documents/DropTheGAN/gpnn.py:87\u001b[0m, in \u001b[0;36mpnn\u001b[0;34m(query, key, value, mask, patch_size, alpha, reduce)\u001b[0m\n\u001b[1;32m     <a href='file:///Users/benfei/Documents/DropTheGAN/gpnn.py?line=84'>85</a>\u001b[0m     key_patches_column \u001b[39m=\u001b[39m key_patches_column[:, :, unmasked_patches]\n\u001b[1;32m     <a href='file:///Users/benfei/Documents/DropTheGAN/gpnn.py?line=85'>86</a>\u001b[0m     value_patches_column \u001b[39m=\u001b[39m value_patches_column[:, :, unmasked_patches]\n\u001b[0;32m---> <a href='file:///Users/benfei/Documents/DropTheGAN/gpnn.py?line=86'>87</a>\u001b[0m _, indices \u001b[39m=\u001b[39m find_normalized_nearest_neighbors(query_patches_column,\n\u001b[1;32m     <a href='file:///Users/benfei/Documents/DropTheGAN/gpnn.py?line=87'>88</a>\u001b[0m                                                key_patches_column, alpha)\n\u001b[1;32m     <a href='file:///Users/benfei/Documents/DropTheGAN/gpnn.py?line=88'>89</a>\u001b[0m \u001b[39m# dist = compute_dist_matrix(query_patches_column, key_patches_column)\u001b[39;00m\n\u001b[1;32m     <a href='file:///Users/benfei/Documents/DropTheGAN/gpnn.py?line=89'>90</a>\u001b[0m \u001b[39m# if alpha is not None:\u001b[39;00m\n\u001b[1;32m     <a href='file:///Users/benfei/Documents/DropTheGAN/gpnn.py?line=90'>91</a>\u001b[0m \u001b[39m#   dist /= dist.min(dim=0, keepdim=True)[0] + alpha\u001b[39;00m\n\u001b[1;32m     <a href='file:///Users/benfei/Documents/DropTheGAN/gpnn.py?line=91'>92</a>\u001b[0m \u001b[39m# indices = dist.argmin(dim=2, keepdims=True)\u001b[39;00m\n\u001b[1;32m     <a href='file:///Users/benfei/Documents/DropTheGAN/gpnn.py?line=92'>93</a>\u001b[0m out_patches_column \u001b[39m=\u001b[39m F\u001b[39m.\u001b[39membedding(indices\u001b[39m.\u001b[39msqueeze(\u001b[39m2\u001b[39m),\n\u001b[1;32m     <a href='file:///Users/benfei/Documents/DropTheGAN/gpnn.py?line=93'>94</a>\u001b[0m                                  value_patches_column\u001b[39m.\u001b[39msqueeze(\u001b[39m0\u001b[39m))\n",
      "File \u001b[0;32m~/Documents/DropTheGAN/gpnn.py:255\u001b[0m, in \u001b[0;36mfind_normalized_nearest_neighbors\u001b[0;34m(queries, keys, alpha, max_memory_usage)\u001b[0m\n\u001b[1;32m    <a href='file:///Users/benfei/Documents/DropTheGAN/gpnn.py?line=246'>247</a>\u001b[0m \u001b[39mdef\u001b[39;00m \u001b[39mfind_normalized_nearest_neighbors\u001b[39m(\n\u001b[1;32m    <a href='file:///Users/benfei/Documents/DropTheGAN/gpnn.py?line=247'>248</a>\u001b[0m     queries: torch\u001b[39m.\u001b[39mTensor,\n\u001b[1;32m    <a href='file:///Users/benfei/Documents/DropTheGAN/gpnn.py?line=248'>249</a>\u001b[0m     keys: torch\u001b[39m.\u001b[39mTensor,\n\u001b[1;32m    <a href='file:///Users/benfei/Documents/DropTheGAN/gpnn.py?line=249'>250</a>\u001b[0m     alpha: \u001b[39mfloat\u001b[39m \u001b[39m=\u001b[39m _INF,\n\u001b[1;32m    <a href='file:///Users/benfei/Documents/DropTheGAN/gpnn.py?line=250'>251</a>\u001b[0m     max_memory_usage: \u001b[39mint\u001b[39m \u001b[39m=\u001b[39m _MAX_MEMORY_SIZE,\n\u001b[1;32m    <a href='file:///Users/benfei/Documents/DropTheGAN/gpnn.py?line=251'>252</a>\u001b[0m ) \u001b[39m-\u001b[39m\u001b[39m>\u001b[39m Tuple[torch\u001b[39m.\u001b[39mTensor, torch\u001b[39m.\u001b[39mTensor]:\n\u001b[1;32m    <a href='file:///Users/benfei/Documents/DropTheGAN/gpnn.py?line=252'>253</a>\u001b[0m     \u001b[39mif\u001b[39;00m alpha \u001b[39m<\u001b[39m _INF:\n\u001b[1;32m    <a href='file:///Users/benfei/Documents/DropTheGAN/gpnn.py?line=253'>254</a>\u001b[0m         \u001b[39m# compute min distance where queries<-keys, and keys<-queries\u001b[39;00m\n\u001b[0;32m--> <a href='file:///Users/benfei/Documents/DropTheGAN/gpnn.py?line=254'>255</a>\u001b[0m         normalizer, _ \u001b[39m=\u001b[39m find_weighted_nearest_neighbors(\n\u001b[1;32m    <a href='file:///Users/benfei/Documents/DropTheGAN/gpnn.py?line=255'>256</a>\u001b[0m             keys, queries, \u001b[39mNone\u001b[39;49;00m, max_memory_usage)\n\u001b[1;32m    <a href='file:///Users/benfei/Documents/DropTheGAN/gpnn.py?line=256'>257</a>\u001b[0m         normalizer \u001b[39m+\u001b[39m\u001b[39m=\u001b[39m alpha\n\u001b[1;32m    <a href='file:///Users/benfei/Documents/DropTheGAN/gpnn.py?line=257'>258</a>\u001b[0m         normalizer \u001b[39m=\u001b[39m \u001b[39m1\u001b[39m \u001b[39m/\u001b[39m normalizer\n",
      "File \u001b[0;32m~/Documents/DropTheGAN/gpnn.py:229\u001b[0m, in \u001b[0;36mfind_weighted_nearest_neighbors\u001b[0;34m(queries, keys, weights, max_memory_usage)\u001b[0m\n\u001b[1;32m    <a href='file:///Users/benfei/Documents/DropTheGAN/gpnn.py?line=226'>227</a>\u001b[0m indices \u001b[39m=\u001b[39m []\n\u001b[1;32m    <a href='file:///Users/benfei/Documents/DropTheGAN/gpnn.py?line=227'>228</a>\u001b[0m \u001b[39mfor\u001b[39;00m start \u001b[39min\u001b[39;00m \u001b[39mrange\u001b[39m(\u001b[39m0\u001b[39m, num_queries, tile_height):\n\u001b[0;32m--> <a href='file:///Users/benfei/Documents/DropTheGAN/gpnn.py?line=228'>229</a>\u001b[0m     value, idx \u001b[39m=\u001b[39m _find_weighted_nearest_neighbors(\n\u001b[1;32m    <a href='file:///Users/benfei/Documents/DropTheGAN/gpnn.py?line=229'>230</a>\u001b[0m         queries[:, start:start \u001b[39m+\u001b[39;49m tile_height], keys,\n\u001b[1;32m    <a href='file:///Users/benfei/Documents/DropTheGAN/gpnn.py?line=230'>231</a>\u001b[0m         _slice_weights(weights, start, start \u001b[39m+\u001b[39;49m tile_height))\n\u001b[1;32m    <a href='file:///Users/benfei/Documents/DropTheGAN/gpnn.py?line=231'>232</a>\u001b[0m     values\u001b[39m.\u001b[39mappend(value)\n\u001b[1;32m    <a href='file:///Users/benfei/Documents/DropTheGAN/gpnn.py?line=232'>233</a>\u001b[0m     indices\u001b[39m.\u001b[39mappend(idx)\n",
      "File \u001b[0;32m~/Documents/DropTheGAN/gpnn.py:205\u001b[0m, in \u001b[0;36m_find_weighted_nearest_neighbors\u001b[0;34m(queries, keys, weights)\u001b[0m\n\u001b[1;32m    <a href='file:///Users/benfei/Documents/DropTheGAN/gpnn.py?line=199'>200</a>\u001b[0m \u001b[39mdef\u001b[39;00m \u001b[39m_find_weighted_nearest_neighbors\u001b[39m(\n\u001b[1;32m    <a href='file:///Users/benfei/Documents/DropTheGAN/gpnn.py?line=200'>201</a>\u001b[0m     queries: torch\u001b[39m.\u001b[39mTensor,\n\u001b[1;32m    <a href='file:///Users/benfei/Documents/DropTheGAN/gpnn.py?line=201'>202</a>\u001b[0m     keys: torch\u001b[39m.\u001b[39mTensor,\n\u001b[1;32m    <a href='file:///Users/benfei/Documents/DropTheGAN/gpnn.py?line=202'>203</a>\u001b[0m     weights: Optional[torch\u001b[39m.\u001b[39mTensor] \u001b[39m=\u001b[39m \u001b[39mNone\u001b[39;00m\n\u001b[1;32m    <a href='file:///Users/benfei/Documents/DropTheGAN/gpnn.py?line=203'>204</a>\u001b[0m ) \u001b[39m-\u001b[39m\u001b[39m>\u001b[39m Tuple[torch\u001b[39m.\u001b[39mTensor, torch\u001b[39m.\u001b[39mTensor]:\n\u001b[0;32m--> <a href='file:///Users/benfei/Documents/DropTheGAN/gpnn.py?line=204'>205</a>\u001b[0m     dists \u001b[39m=\u001b[39m _compute_dist_matrix(queries, keys)\n\u001b[1;32m    <a href='file:///Users/benfei/Documents/DropTheGAN/gpnn.py?line=205'>206</a>\u001b[0m     \u001b[39mif\u001b[39;00m weights \u001b[39mis\u001b[39;00m \u001b[39mnot\u001b[39;00m \u001b[39mNone\u001b[39;00m:\n\u001b[1;32m    <a href='file:///Users/benfei/Documents/DropTheGAN/gpnn.py?line=206'>207</a>\u001b[0m         dists \u001b[39m*\u001b[39m\u001b[39m=\u001b[39m weights\n",
      "File \u001b[0;32m~/Documents/DropTheGAN/gpnn.py:134\u001b[0m, in \u001b[0;36m_compute_dist_matrix\u001b[0;34m(queries, keys)\u001b[0m\n\u001b[1;32m    <a href='file:///Users/benfei/Documents/DropTheGAN/gpnn.py?line=130'>131</a>\u001b[0m \u001b[39mdef\u001b[39;00m \u001b[39m_compute_dist_matrix\u001b[39m(queries: torch\u001b[39m.\u001b[39mTensor,\n\u001b[1;32m    <a href='file:///Users/benfei/Documents/DropTheGAN/gpnn.py?line=131'>132</a>\u001b[0m                          keys: torch\u001b[39m.\u001b[39mTensor) \u001b[39m-\u001b[39m\u001b[39m>\u001b[39m torch\u001b[39m.\u001b[39mTensor:\n\u001b[1;32m    <a href='file:///Users/benfei/Documents/DropTheGAN/gpnn.py?line=132'>133</a>\u001b[0m     \u001b[39m\"\"\"Computes a matrix of MSE between each query and each key.\"\"\"\u001b[39;00m\n\u001b[0;32m--> <a href='file:///Users/benfei/Documents/DropTheGAN/gpnn.py?line=133'>134</a>\u001b[0m     \u001b[39mreturn\u001b[39;00m torch\u001b[39m.\u001b[39;49mcdist(queries, keys, p\u001b[39m=\u001b[39;49m\u001b[39m2\u001b[39;49m)\u001b[39m.\u001b[39mpow(\u001b[39m2\u001b[39m) \u001b[39m/\u001b[39m queries\u001b[39m.\u001b[39mshape[\u001b[39m-\u001b[39m\u001b[39m1\u001b[39m]\n",
      "File \u001b[0;32m/opt/homebrew/Caskroom/mambaforge/base/envs/dropthegan/lib/python3.10/site-packages/torch/functional.py:1278\u001b[0m, in \u001b[0;36mcdist\u001b[0;34m(x1, x2, p, compute_mode)\u001b[0m\n\u001b[1;32m   <a href='file:///opt/homebrew/Caskroom/mambaforge/base/envs/dropthegan/lib/python3.10/site-packages/torch/functional.py?line=1274'>1275</a>\u001b[0m     \u001b[39mreturn\u001b[39;00m handle_torch_function(\n\u001b[1;32m   <a href='file:///opt/homebrew/Caskroom/mambaforge/base/envs/dropthegan/lib/python3.10/site-packages/torch/functional.py?line=1275'>1276</a>\u001b[0m         cdist, (x1, x2), x1, x2, p\u001b[39m=\u001b[39mp, compute_mode\u001b[39m=\u001b[39mcompute_mode)\n\u001b[1;32m   <a href='file:///opt/homebrew/Caskroom/mambaforge/base/envs/dropthegan/lib/python3.10/site-packages/torch/functional.py?line=1276'>1277</a>\u001b[0m \u001b[39mif\u001b[39;00m compute_mode \u001b[39m==\u001b[39m \u001b[39m'\u001b[39m\u001b[39muse_mm_for_euclid_dist_if_necessary\u001b[39m\u001b[39m'\u001b[39m:\n\u001b[0;32m-> <a href='file:///opt/homebrew/Caskroom/mambaforge/base/envs/dropthegan/lib/python3.10/site-packages/torch/functional.py?line=1277'>1278</a>\u001b[0m     \u001b[39mreturn\u001b[39;00m _VF\u001b[39m.\u001b[39;49mcdist(x1, x2, p, \u001b[39mNone\u001b[39;49;00m)  \u001b[39m# type: ignore[attr-defined]\u001b[39;00m\n\u001b[1;32m   <a href='file:///opt/homebrew/Caskroom/mambaforge/base/envs/dropthegan/lib/python3.10/site-packages/torch/functional.py?line=1278'>1279</a>\u001b[0m \u001b[39melif\u001b[39;00m compute_mode \u001b[39m==\u001b[39m \u001b[39m'\u001b[39m\u001b[39muse_mm_for_euclid_dist\u001b[39m\u001b[39m'\u001b[39m:\n\u001b[1;32m   <a href='file:///opt/homebrew/Caskroom/mambaforge/base/envs/dropthegan/lib/python3.10/site-packages/torch/functional.py?line=1279'>1280</a>\u001b[0m     \u001b[39mreturn\u001b[39;00m _VF\u001b[39m.\u001b[39mcdist(x1, x2, p, \u001b[39m1\u001b[39m)  \u001b[39m# type: ignore[attr-defined]\u001b[39;00m\n",
      "\u001b[0;31mKeyboardInterrupt\u001b[0m: "
     ]
    }
   ],
   "source": [
    "out = image_generation(\n",
    "    small_image.unsqueeze(0),\n",
    "    num_levels=8, \n",
    "    alpha=10,\n",
    "    noise_std=0.75,\n",
    ")"
   ]
  },
  {
   "cell_type": "code",
   "execution_count": 24,
   "metadata": {},
   "outputs": [
    {
     "data": {
      "application/vnd.jupyter.widget-view+json": {
       "model_id": "507a62c13f0a43f3b693744a79ba4ff5",
       "version_major": 2,
       "version_minor": 0
      },
      "text/plain": [
       "Image(value=b'\\x89PNG\\r\\n\\x1a\\n\\x00\\x00\\x00\\rIHDR\\x00\\x00\\x00\\xba\\x00\\x00\\x00\\x8c\\x08\\x02\\x00\\x00\\x00DO$\\x16\\x…"
      ]
     },
     "metadata": {},
     "output_type": "display_data"
    },
    {
     "data": {
      "application/vnd.jupyter.widget-view+json": {
       "model_id": "1f977dbf6bce4eac8dfeb3b9588fd113",
       "version_major": 2,
       "version_minor": 0
      },
      "text/plain": [
       "Image(value=b'\\x89PNG\\r\\n\\x1a\\n\\x00\\x00\\x00\\rIHDR\\x00\\x00\\x00\\xba\\x00\\x00\\x00\\x8c\\x08\\x02\\x00\\x00\\x00DO$\\x16\\x…"
      ]
     },
     "metadata": {},
     "output_type": "display_data"
    }
   ],
   "source": [
    "imshow(small_image)\n",
    "imshow(out)"
   ]
  },
  {
   "cell_type": "code",
   "execution_count": 33,
   "metadata": {},
   "outputs": [
    {
     "ename": "TypeError",
     "evalue": "'int' object is not iterable",
     "output_type": "error",
     "traceback": [
      "\u001b[0;31m---------------------------------------------------------------------------\u001b[0m",
      "\u001b[0;31mTypeError\u001b[0m                                 Traceback (most recent call last)",
      "\u001b[1;32m/Users/benfei/Documents/DropTheGAN/integration_test.ipynb Cell 13'\u001b[0m in \u001b[0;36m<cell line: 1>\u001b[0;34m()\u001b[0m\n\u001b[0;32m----> <a href='vscode-notebook-cell:/Users/benfei/Documents/DropTheGAN/integration_test.ipynb#ch0000029?line=0'>1</a>\u001b[0m out \u001b[39m=\u001b[39m retargeting(small_image, retargeting_ratio\u001b[39m=\u001b[39;49m(\u001b[39m0.75\u001b[39;49m, \u001b[39m0.75\u001b[39;49m))\n",
      "\u001b[1;32m/Users/benfei/Documents/DropTheGAN/integration_test.ipynb Cell 6'\u001b[0m in \u001b[0;36mretargeting\u001b[0;34m(image, retargeting_ratio, alpha, patch_size, reduce, downscale_ratio, max_num_levels, gradual, min_axis_size_coarsest)\u001b[0m\n\u001b[1;32m     <a href='vscode-notebook-cell:/Users/benfei/Documents/DropTheGAN/integration_test.ipynb#ch0000030?line=32'>33</a>\u001b[0m num_steps, step_size \u001b[39m=\u001b[39m _get_retargeting_step_size(retargeting_ratio, gradual)\n\u001b[1;32m     <a href='vscode-notebook-cell:/Users/benfei/Documents/DropTheGAN/integration_test.ipynb#ch0000030?line=33'>34</a>\u001b[0m generated \u001b[39m=\u001b[39m image\n\u001b[0;32m---> <a href='vscode-notebook-cell:/Users/benfei/Documents/DropTheGAN/integration_test.ipynb#ch0000030?line=34'>35</a>\u001b[0m \u001b[39mfor\u001b[39;00m _ \u001b[39min\u001b[39;00m num_steps:\n\u001b[1;32m     <a href='vscode-notebook-cell:/Users/benfei/Documents/DropTheGAN/integration_test.ipynb#ch0000030?line=35'>36</a>\u001b[0m     resized_generated \u001b[39m=\u001b[39m resize_right\u001b[39m.\u001b[39mresize(generated, step_size)\n\u001b[1;32m     <a href='vscode-notebook-cell:/Users/benfei/Documents/DropTheGAN/integration_test.ipynb#ch0000030?line=36'>37</a>\u001b[0m     current_num_levels \u001b[39m=\u001b[39m _get_num_levels(resized_generated\u001b[39m.\u001b[39mshape[\u001b[39m-\u001b[39m\u001b[39m2\u001b[39m:], min_axis_size_coarsest, downscale_ratio)\n",
      "\u001b[0;31mTypeError\u001b[0m: 'int' object is not iterable"
     ]
    }
   ],
   "source": [
    "out = retargeting(small_image, retargeting_ratio=(0.75, 0.75))"
   ]
  },
  {
   "cell_type": "code",
   "execution_count": null,
   "metadata": {},
   "outputs": [],
   "source": []
  }
 ],
 "metadata": {
  "interpreter": {
   "hash": "2c5d68d5ffe68388c34cf58ae22a6c80e30730d6e4582d5cf98b26ba7b79a13f"
  },
  "kernelspec": {
   "display_name": "Python 3.10.4 ('dropthegan')",
   "language": "python",
   "name": "python3"
  },
  "language_info": {
   "codemirror_mode": {
    "name": "ipython",
    "version": 3
   },
   "file_extension": ".py",
   "mimetype": "text/x-python",
   "name": "python",
   "nbconvert_exporter": "python",
   "pygments_lexer": "ipython3",
   "version": "3.10.4"
  },
  "orig_nbformat": 4
 },
 "nbformat": 4,
 "nbformat_minor": 2
}

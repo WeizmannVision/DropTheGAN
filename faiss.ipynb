{
 "cells": [
  {
   "cell_type": "code",
   "execution_count": null,
   "metadata": {},
   "outputs": [],
   "source": [
    "!gpustat -cu"
   ]
  },
  {
   "cell_type": "code",
   "execution_count": null,
   "metadata": {},
   "outputs": [],
   "source": [
    "%env CUDA_VISIBLE_DEVICES 1"
   ]
  },
  {
   "cell_type": "code",
   "execution_count": null,
   "metadata": {},
   "outputs": [],
   "source": [
    "import torch\n",
    "import faiss\n",
    "import faiss.contrib.torch_utils"
   ]
  },
  {
   "cell_type": "code",
   "execution_count": null,
   "metadata": {},
   "outputs": [],
   "source": [
    "torch.manual_seed(1234)\n",
    "\n",
    "d = 3 * 7**2\n",
    "res = faiss.StandardGpuResources()\n",
    "\n",
    "nb = 10000                      # database size\n",
    "nq = 10000                       # nb of queries\n",
    "xb = torch.rand((nb, d), device='cuda')\n",
    "xb[:, 0] += torch.arange(nb, device='cuda') / 1000.\n",
    "xq = torch.rand((nq, d), device='cuda')\n",
    "xq[:, 0] += torch.arange(nq, device='cuda') / 1000."
   ]
  },
  {
   "cell_type": "code",
   "execution_count": null,
   "metadata": {},
   "outputs": [],
   "source": [
    "faiss."
   ]
  },
  {
   "cell_type": "code",
   "execution_count": null,
   "metadata": {},
   "outputs": [],
   "source": [
    "# %%timeit\n",
    "k = 4\n",
    "index = faiss.GpuIndexFlatL2(res, d)\n",
    "index.add(xb)\n",
    "D, I = index.search(xq, 1)"
   ]
  },
  {
   "cell_type": "code",
   "execution_count": null,
   "metadata": {},
   "outputs": [],
   "source": [
    "I.shape"
   ]
  },
  {
   "cell_type": "code",
   "execution_count": null,
   "metadata": {},
   "outputs": [],
   "source": [
    "!gpustat -cu"
   ]
  },
  {
   "cell_type": "code",
   "execution_count": null,
   "metadata": {},
   "outputs": [],
   "source": [
    "k = 4\n",
    "index = faiss.GpuIndexFlatL2(res, d)\n",
    "index.add(xb)"
   ]
  },
  {
   "cell_type": "code",
   "execution_count": null,
   "metadata": {},
   "outputs": [],
   "source": [
    "xq = xq.detach().requires_grad_()\n",
    "opt = torch.optim.SGD([xq], lr=10)\n",
    "for i in range(100000):\n",
    "    opt.zero_grad()\n",
    "    _, I = index.search(xq, k)\n",
    "    D = torch.nn.functional.mse_loss(xq, xb[I[:, 0]])\n",
    "    l = D.mean()\n",
    "    l.backward()\n",
    "    opt.step()\n",
    "    if i == 0 or (i + 1) % 1000 == 0:\n",
    "        print(i, l.item())"
   ]
  },
  {
   "cell_type": "code",
   "execution_count": null,
   "metadata": {},
   "outputs": [],
   "source": [
    "def l2_dist(x, y):\n",
    "    return (x - y).pow(2).sum(dim=-1)"
   ]
  },
  {
   "cell_type": "code",
   "execution_count": null,
   "metadata": {},
   "outputs": [],
   "source": [
    "def search(index, xq, k, with_grad=False):\n",
    "    if with_grad:\n",
    "        _, I = index.search(xq, k)\n",
    "        D = l2_dist(xq.unsqueeze(1), xb[I])\n",
    "    else:\n",
    "        D, I = index.search(xq, k)\n",
    "    return D, I"
   ]
  },
  {
   "cell_type": "code",
   "execution_count": null,
   "metadata": {},
   "outputs": [],
   "source": [
    "%%timeit\n",
    "k = 4\n",
    "with_grad = False\n",
    "index = faiss.GpuIndexFlatL2(res, d)\n",
    "index.add(xb)\n",
    "D, I = search(index, xq, k, with_grad)\n",
    "# D, I = index.search(xq, k)\n",
    "# _, I = index.search(xq, k)\n",
    "# D = l2_dist(xq.unsqueeze(1), xb[I])"
   ]
  },
  {
   "cell_type": "code",
   "execution_count": null,
   "metadata": {},
   "outputs": [],
   "source": [
    "k = 1\n",
    "with_grad = True\n",
    "\n",
    "index = faiss.GpuIndexFlatL2(res, d)\n",
    "# index = faiss.index_cpu_to_gpu(index)\n",
    "index.add(xb)\n",
    "\n",
    "start = torch.cuda.Event(enable_timing=True)\n",
    "end = torch.cuda.Event(enable_timing=True)\n",
    "start.record()\n",
    "# index = faiss.GpuIndexFlatL2(res, d)\n",
    "D, I = search(index, xq, k, with_grad)\n",
    "end.record()\n",
    "torch.cuda.synchronize()\n",
    "print('time = %.2fms' % start.elapsed_time(end))"
   ]
  },
  {
   "cell_type": "code",
   "execution_count": null,
   "metadata": {},
   "outputs": [],
   "source": [
    "!gpustat -cu"
   ]
  },
  {
   "cell_type": "code",
   "execution_count": null,
   "metadata": {},
   "outputs": [],
   "source": [
    "!gpustat -cu"
   ]
  },
  {
   "cell_type": "code",
   "execution_count": null,
   "metadata": {},
   "outputs": [],
   "source": [
    "def calc_l2(x, y):\n",
    "    y = y.transpose(0, 1)\n",
    "    x2 = x.pow(2).sum(1, keepdims=True)\n",
    "    y2 = y.pow(2).sum(0, keepdims=True)\n",
    "    xy = x @ y\n",
    "    return x2 + y2 - 2 * xy\n",
    "\n",
    "def calc_l2_(x, y_):\n",
    "    x2 = x.pow(2).sum(1, keepdims=True)\n",
    "    y2 = y_.pow(2).sum(0, keepdims=True)\n",
    "    xy = x @ y_\n",
    "    return x2 + y2 - 2 * xy"
   ]
  },
  {
   "cell_type": "code",
   "execution_count": null,
   "metadata": {},
   "outputs": [],
   "source": [
    "# %%timeit -n1\n",
    "with_grad = True\n",
    "\n",
    "start = torch.cuda.Event(enable_timing=True)\n",
    "end = torch.cuda.Event(enable_timing=True)\n",
    "start.record()\n",
    "with torch.set_grad_enabled(with_grad):\n",
    "    dist = calc_l2(xq, xb)\n",
    "    D, I = dist.min(1)\n",
    "end.record()\n",
    "torch.cuda.synchronize()\n",
    "print('time = %.2fms' % start.elapsed_time(end))"
   ]
  },
  {
   "cell_type": "code",
   "execution_count": null,
   "metadata": {},
   "outputs": [],
   "source": [
    "!gpustat -cu"
   ]
  },
  {
   "cell_type": "code",
   "execution_count": null,
   "metadata": {},
   "outputs": [],
   "source": []
  }
 ],
 "metadata": {
  "kernelspec": {
   "display_name": "Python 3",
   "language": "python",
   "name": "python3"
  },
  "language_info": {
   "codemirror_mode": {
    "name": "ipython",
    "version": 3
   },
   "file_extension": ".py",
   "mimetype": "text/x-python",
   "name": "python",
   "nbconvert_exporter": "python",
   "pygments_lexer": "ipython3",
   "version": "3.8.6"
  }
 },
 "nbformat": 4,
 "nbformat_minor": 4
}
